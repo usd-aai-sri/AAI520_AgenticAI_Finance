{
  "cells": [
    {
      "cell_type": "markdown",
      "metadata": {},
      "source": [
        "# Agentic AI for Investment Research and Market Analysis\n",
        "**Course:** AAI-520 — Final Team Project  \n",
        "**Team:** 11 | **Members:** Sowrab R Iyengar (Lead), Pratibha Kambi, Antareep Chakrobarty  \n",
        "**GitHub Link:** https://github.com/usd-aai-sri/AAI520_AgenticAI_Finance\n",
        "\n",
        "This notebook preserves the original code and minimally **builds on it** with clear sections, markdown explanations, and small additive utilities to satisfy the project **Agent Functions**, **Workflow Patterns**, and **Code** requirements.\n",
        "\n",
        "---\n",
        "\n",
        "## Project Overview\n",
        "We implement an **Investment Research Agent** that:\n",
        "- Plans research steps for a given stock symbol.\n",
        "- Uses tools dynamically (Yahoo Finance, News ingestion, FRED).\n",
        "- Self-reflects on outputs (**Evaluator–Optimizer** loop).\n",
        "- Retains lightweight memory across runs to improve future analyses.\n",
        "\n",
        "## Workflow Patterns Demonstrated\n",
        "1. **Prompt Chaining:** Ingest News → Preprocess → Classify → Extract → Summarize  \n",
        "2. **Routing:** Direct items to specialist analyzers (news, earnings, macro).  \n",
        "3. **Evaluator–Optimizer:** Generate → Evaluate quality → Refine using feedback.\n",
        "\n",
        "> **Note:** API keys are referenced via environment variables. This notebook does not make network calls during export; use your keys and run cells locally/colab.\n"
      ]
    },
    {
      "cell_type": "markdown",
      "metadata": {},
      "source": [
        "## Setup and Imports\n",
        "This section imports the necessary Python libraries required for data processing, visualization, and API integration."
      ]
    },
    {
      "cell_type": "code",
      "execution_count": 3,
      "metadata": {},
      "outputs": [],
      "source": [
        "\n",
        "# !pip install -q yfinance pandas numpy scikit-learn matplotlib textblob nltk newsapi-python fredapi sec-edgar-downloader\n"
      ]
    },
    {
      "cell_type": "code",
      "execution_count": 1,
      "metadata": {},
      "outputs": [],
      "source": [
        "import os\n",
        "import json\n",
        "import time\n",
        "import math\n",
        "import uuid\n",
        "import string\n",
        "import random\n",
        "import pandas as pd\n",
        "import numpy as np\n",
        "import yfinance as yf\n",
        "\n",
        "# Optional imports (guarded)\n",
        "try:\n",
        "    from newsapi import NewsApiClient\n",
        "except Exception:\n",
        "    NewsApiClient = None\n",
        "\n",
        "try:\n",
        "    from fredapi import Fred\n",
        "except Exception:\n",
        "    Fred = None\n",
        "\n",
        "# Plotting defaults\n",
        "import matplotlib.pyplot as plt\n",
        "\n",
        "pd.set_option('display.max_columns', 120)\n"
      ]
    },
    {
      "cell_type": "markdown",
      "metadata": {},
      "source": [
        "## Configuration and Memory\n",
        "Configuration parameters and lightweight persistent memory are defined here to enable consistent runs and iterative improvement."
      ]
    },
    {
      "cell_type": "code",
      "execution_count": 2,
      "metadata": {},
      "outputs": [
        {
          "data": {
            "text/plain": [
              "{}"
            ]
          },
          "execution_count": 2,
          "metadata": {},
          "output_type": "execute_result"
        }
      ],
      "source": [
        "# --- Configuration & Lightweight Memory ---\n",
        "TICKER = os.getenv(\"PROJECT_TICKER\", \"AAPL\")\n",
        "LOOKBACK_DAYS = int(os.getenv(\"LOOKBACK_DAYS\", \"365\"))\n",
        "NEWS_WINDOW_DAYS = int(os.getenv(\"NEWS_WINDOW_DAYS\", \"14\"))\n",
        "RISK_FREE_RATE = float(os.getenv(\"RISK_FREE_RATE\", \"0.045\"))  # annualized\n",
        "\n",
        "MEMO_PATH = os.getenv(\"AGENT_MEMO_PATH\", \"agent_memo.json\")\n",
        "\n",
        "def load_memo(path=MEMO_PATH):\n",
        "    if os.path.exists(path):\n",
        "        try:\n",
        "            with open(path, \"r\", encoding=\"utf-8\") as f:\n",
        "                return json.load(f)\n",
        "        except Exception:\n",
        "            return {}\n",
        "    return {}\n",
        "\n",
        "def save_memo(memo, path=MEMO_PATH):\n",
        "    try:\n",
        "        with open(path, \"w\", encoding=\"utf-8\") as f:\n",
        "            json.dump(memo, f, indent=2)\n",
        "    except Exception as e:\n",
        "        print(\"Memo save failed:\", e)\n",
        "\n",
        "MEMO = load_memo()\n",
        "MEMO.setdefault(\"run_notes\", [])\n",
        "MEMO.setdefault(\"tickers_seen\", {})\n"
      ]
    },
    {
      "cell_type": "markdown",
      "metadata": {},
      "source": [
        "## Tools for Price Data and Feature Engineering\n",
        "This section defines helper functions to retrieve market data from Yahoo Finance and compute basic statistical features for analysis."
      ]
    },
    {
      "cell_type": "code",
      "execution_count": 3,
      "metadata": {},
      "outputs": [],
      "source": [
        "# --- Tool: Yahoo Finance Price & Fundamentals Fetch ---\n",
        "from datetime import datetime, timedelta\n",
        "\n",
        "def fetch_price_history(ticker=TICKER, days=LOOKBACK_DAYS):\n",
        "    end = datetime.utcnow().date()\n",
        "    start = end - timedelta(days=days)\n",
        "    df = yf.download(ticker, start=start.isoformat(), end=end.isoformat(), progress=False)\n",
        "    df = df.rename(columns={\"Adj Close\": \"AdjClose\"})\n",
        "    return df\n",
        "\n",
        "def basic_features(price_df: pd.DataFrame) -> pd.DataFrame:\n",
        "    df = price_df.copy()\n",
        "    df[\"Return\"] = df[\"AdjClose\"].pct_change()\n",
        "    df[\"Volatility20\"] = df[\"Return\"].rolling(window=20).std() * np.sqrt(252)\n",
        "    df[\"SMA20\"] = df[\"AdjClose\"].rolling(window=20).mean()\n",
        "    df[\"SMA50\"] = df[\"AdjClose\"].rolling(window=50).mean()\n",
        "    df[\"Momentum20\"] = df[\"AdjClose\"].pct_change(periods=20)\n",
        "    return df\n"
      ]
    },
    {
      "cell_type": "markdown",
      "metadata": {},
      "source": [
        "## Workflow Pattern 1 — Prompt Chaining\n",
        "This section demonstrates how the agent processes financial news in a sequence of steps: ingestion, preprocessing, classification, extraction, and summarization."
      ]
    },
    {
      "cell_type": "code",
      "execution_count": 4,
      "metadata": {},
      "outputs": [],
      "source": [
        "# --- Tool: News Ingestion (Placeholder for NewsAPI/Kaggle) ---\n",
        "from datetime import datetime, timedelta\n",
        "\n",
        "def ingest_news(ticker=TICKER, window_days=NEWS_WINDOW_DAYS):\n",
        "    \"\"\"Return a placeholder dataframe of 'news' with minimal schema.\n",
        "    Replace with actual NewsAPI/Kaggle ingestion in production.\n",
        "    \"\"\"\n",
        "    end = datetime.utcnow().date()\n",
        "    start = end - timedelta(days=window_days)\n",
        "    data = [\n",
        "        {\n",
        "            \"date\": str(start + timedelta(days=i)),\n",
        "            \"title\": f\"{ticker} sample headline {i}\",\n",
        "            \"content\": f\"Placeholder news content about {ticker} event {i}. Earnings, guidance, or product updates.\",\n",
        "            \"source\": \"PlaceholderWire\"\n",
        "        }\n",
        "        for i in range(window_days)\n",
        "    ]\n",
        "    return pd.DataFrame(data)\n",
        "\n",
        "def preprocess_news(df: pd.DataFrame) -> pd.DataFrame:\n",
        "    # Minimal cleanup/token count for demonstration\n",
        "    df = df.copy()\n",
        "    df[\"len\"] = df[\"content\"].fillna(\"\").str.len()\n",
        "    df[\"lower\"] = df[\"content\"].fillna(\"\").str.lower()\n",
        "    return df\n",
        "\n",
        "def classify_news(df: pd.DataFrame) -> pd.DataFrame:\n",
        "    # Very naive rule-based 'classification' (replace with model)\n",
        "    df = df.copy()\n",
        "    df[\"class\"] = np.where(df[\"lower\"].str.contains(\"earnings|guidance|record|beat\"), \"fundamental\",\n",
        "                   np.where(df[\"lower\"].str.contains(\"product|launch|update\"), \"product\",\n",
        "                   \"general\"))\n",
        "    return df\n",
        "\n",
        "def extract_signals(df: pd.DataFrame) -> pd.DataFrame:\n",
        "    # Toy 'signal': positive if 'record' or 'beat' appears\n",
        "    df = df.copy()\n",
        "    pos = df[\"lower\"].str.contains(\"record|beat|raise|upgrade\")\n",
        "    neg = df[\"lower\"].str.contains(\"downgrade|cut|miss|delay\")\n",
        "    df[\"signal\"] = np.select([pos, neg], [1, -1], default=0)\n",
        "    return df\n",
        "\n",
        "def summarize_findings(df: pd.DataFrame) -> str:\n",
        "    counts = df[\"class\"].value_counts(dropna=False).to_dict()\n",
        "    sentiment = int(df[\"signal\"].sum())\n",
        "    s = [\n",
        "        f\"News classes: {counts}\",\n",
        "        f\"Cumulative directional signal (toy): {sentiment:+d}\",\n",
        "        \"Key observations:\",\n",
        "        \"- Fundamental items imply earnings/guidance sensitivity.\",\n",
        "        \"- Product items may impact medium-term momentum.\",\n",
        "        \"- General items provide background context.\"\n",
        "    ]\n",
        "    return \"\\n\".join(s)\n"
      ]
    },
    {
      "cell_type": "markdown",
      "metadata": {},
      "source": [
        "## Workflow Pattern 2 — Routing\n",
        "Routing ensures that content is directed to specialized analyzers based on its characteristics, such as earnings reports, macroeconomic updates, or general news."
      ]
    },
    {
      "cell_type": "code",
      "execution_count": 5,
      "metadata": {},
      "outputs": [],
      "source": [
        "# --- Routing: Send items to the right specialist analyzer ---\n",
        "def route_item(item: dict) -> str:\n",
        "    text = (item.get(\"title\",\"\") + \" \" + item.get(\"content\",\"\")).lower()\n",
        "    if any(k in text for k in [\"earnings\",\"guidance\",\"revenue\",\"profit\",\"margin\"]):\n",
        "        return \"earnings_analyzer\"\n",
        "    if any(k in text for k in [\"cpi\",\"rates\",\"employment\",\"fomc\",\"gdp\",\"inflation\"]):\n",
        "        return \"macro_analyzer\"\n",
        "    return \"news_analyzer\"\n",
        "\n",
        "def apply_routing(df: pd.DataFrame) -> pd.DataFrame:\n",
        "    df = df.copy()\n",
        "    df[\"route\"] = df.apply(route_item, axis=1)\n",
        "    return df\n"
      ]
    },
    {
      "cell_type": "markdown",
      "metadata": {},
      "source": [
        "## Workflow Pattern 3 — Evaluator–Optimizer\n",
        "The Evaluator–Optimizer framework enables self-critique and iterative refinement. The agent evaluates the quality of its own output and refines it using feedback to achieve a more coherent and complete analysis."
      ]
    },
    {
      "cell_type": "code",
      "execution_count": 6,
      "metadata": {},
      "outputs": [],
      "source": [
        "# --- Evaluator–Optimizer: Self-critique and refinement loop ---\n",
        "def generate_analysis(ticker, price_df, news_df) -> str:\n",
        "    last_close = float(price_df[\"AdjClose\"].iloc[-1])\n",
        "    vol = float(price_df[\"Volatility20\"].iloc[-1])\n",
        "    news_summary = summarize_findings(news_df)\n",
        "    draft = f\"\"\"Analysis v1 for {ticker}:\n",
        "- Last close: {last_close:.2f}\n",
        "- 20D annualized volatility: {vol:.2%}\n",
        "- News summary:\n",
        "{news_summary}\n",
        "\n",
        "Initial view: Blend of fundamentals and product updates in recent cycle.\n",
        "\"\"\"\n",
        "    return draft\n",
        "\n",
        "def evaluate_quality(text: str) -> dict:\n",
        "    # Toy evaluator: length, key sections present\n",
        "    score = 0\n",
        "    checks = {}\n",
        "    checks[\"has_last_close\"] = \"Last close\" in text\n",
        "    checks[\"has_volatility\"] = \"volatility\" in text.lower()\n",
        "    checks[\"has_news_summary\"] = \"News summary\" in text\n",
        "    score = sum(int(v) for v in checks.values())\n",
        "    return {\"score\": score, \"checks\": checks}\n",
        "\n",
        "def refine_with_feedback(text: str, eval_report: dict) -> str:\n",
        "    s = text\n",
        "    if not eval_report[\"checks\"].get(\"has_last_close\", False):\n",
        "        s += \"\\nAdded: Include last close figure.\"\n",
        "    if not eval_report[\"checks\"].get(\"has_volatility\", False):\n",
        "        s += \"\\nAdded: Include 20D annualized volatility.\"\n",
        "    if not eval_report[\"checks\"].get(\"has_news_summary\", False):\n",
        "        s += \"\\nAdded: Attach news summary block.\"\n",
        "    s += \"\\nRefinement note: Consider adding risk perspective vs. risk-free rate.\"\n",
        "    return s\n"
      ]
    },
    {
      "cell_type": "markdown",
      "metadata": {},
      "source": [
        "## Agent Planner and Orchestrator\n",
        "This component defines the sequence of research actions executed by the agent, integrating all workflow patterns to perform a full financial analysis autonomously."
      ]
    },
    {
      "cell_type": "code",
      "execution_count": 7,
      "metadata": {},
      "outputs": [],
      "source": [
        "# --- Planner: Research Steps ---\n",
        "PLAN_STEPS = [\n",
        "    \"Fetch price history\",\n",
        "    \"Engineer basic features (returns, vol, SMAs)\",\n",
        "    \"Ingest & preprocess recent news\",\n",
        "    \"Classify and extract directional signals\",\n",
        "    \"Route items to specialist analyzers\",\n",
        "    \"Synthesize draft analysis\",\n",
        "    \"Evaluate and refine analysis (Evaluator–Optimizer)\",\n",
        "    \"Persist brief memory and results\"\n",
        "]\n",
        "\n",
        "def run_agent(ticker=TICKER):\n",
        "    print(\"Plan:\", *[f\"{i+1}. {s}\" for i,s in enumerate(PLAN_STEPS)], sep=\"\\n\")\n",
        "    prices = fetch_price_history(ticker)\n",
        "    feats = basic_features(prices)\n",
        "    news = ingest_news(ticker)\n",
        "    news_p = preprocess_news(news)\n",
        "    news_c = classify_news(news_p)\n",
        "    news_s = extract_signals(news_c)\n",
        "    news_r = apply_routing(news_s)\n",
        "\n",
        "    draft = generate_analysis(ticker, feats.dropna(), news_r)\n",
        "    eval_report = evaluate_quality(draft)\n",
        "    refined = refine_with_feedback(draft, eval_report)\n",
        "\n",
        "    # Persist brief memory\n",
        "    MEMO[\"tickers_seen\"].setdefault(ticker, 0)\n",
        "    MEMO[\"tickers_seen\"][ticker] += 1\n",
        "    MEMO[\"run_notes\"].append({\n",
        "        \"ticker\": ticker,\n",
        "        \"ts\": time.time(),\n",
        "        \"eval_score\": eval_report[\"score\"]\n",
        "    })\n",
        "    save_memo(MEMO)\n",
        "\n",
        "    return {\n",
        "        \"prices\": prices,\n",
        "        \"features\": feats,\n",
        "        \"news\": news_r,\n",
        "        \"draft\": draft,\n",
        "        \"evaluation\": eval_report,\n",
        "        \"refined\": refined\n",
        "    }\n",
        "\n",
        "# Example (safe to run offline with placeholder news)\n",
        "# results = run_agent(TICKER)\n",
        "# print(results[\"refined\"][:800])\n"
      ]
    },
    {
      "cell_type": "markdown",
      "metadata": {},
      "source": [
        "## Reporting\n",
        "Visualization functions are included to display results and highlight key financial indicators such as adjusted closing prices and moving averages."
      ]
    },
    {
      "cell_type": "code",
      "execution_count": 8,
      "metadata": {},
      "outputs": [],
      "source": [
        "# --- Reporting Helpers ---\n",
        "def plot_prices_and_sma(df: pd.DataFrame, ticker=TICKER):\n",
        "    df = df.dropna(subset=[\"AdjClose\"])\n",
        "    plt.figure(figsize=(10,4))\n",
        "    df[\"AdjClose\"].plot(label=f\"{ticker} AdjClose\")\n",
        "    if \"SMA20\" in df: df[\"SMA20\"].plot(label=\"SMA20\")\n",
        "    if \"SMA50\" in df: df[\"SMA50\"].plot(label=\"SMA50\")\n",
        "    plt.title(f\"{ticker} Price with SMAs\")\n",
        "    plt.legend()\n",
        "    plt.grid(True)\n",
        "    plt.show()\n",
        "\n",
        "# To use after run_agent:\n",
        "# plot_prices_and_sma(results[\"features\"])\n"
      ]
    },
    {
      "cell_type": "markdown",
      "metadata": {},
      "source": [
        "#DATA COLLECTION"
      ]
    },
    {
      "cell_type": "code",
      "execution_count": 9,
      "metadata": {
        "id": "mQTYA-7LFW5n"
      },
      "outputs": [],
      "source": [
        "import yfinance as yf\n",
        "import pandas as pd\n",
        "import numpy as np\n",
        "pd.set_option('future.no_silent_downcasting', True)"
      ]
    },
    {
      "cell_type": "code",
      "execution_count": 10,
      "metadata": {
        "colab": {
          "base_uri": "https://localhost:8080/"
        },
        "executionInfo": {
          "elapsed": 5011,
          "status": "ok",
          "timestamp": 1759924700056,
          "user": {
            "displayName": "Pratibha Kambi",
            "userId": "10228423695472283281"
          },
          "user_tz": -330
        },
        "id": "huIuFKtEnQTk",
        "outputId": "2c17acaf-daac-498f-eff1-85dd449d0a4a"
      },
      "outputs": [
        {
          "name": "stdout",
          "output_type": "stream",
          "text": [
            "Requirement already satisfied: fredapi in /Users/Sowrab/Documents/Udemy Courses/venv/lib/python3.12/site-packages (0.5.2)\n",
            "Requirement already satisfied: pandas in /Users/Sowrab/Documents/Udemy Courses/venv/lib/python3.12/site-packages (from fredapi) (2.3.3)\n",
            "Requirement already satisfied: numpy>=1.26.0 in /Users/Sowrab/Documents/Udemy Courses/venv/lib/python3.12/site-packages (from pandas->fredapi) (2.3.3)\n",
            "Requirement already satisfied: python-dateutil>=2.8.2 in /Users/Sowrab/Documents/Udemy Courses/venv/lib/python3.12/site-packages (from pandas->fredapi) (2.9.0.post0)\n",
            "Requirement already satisfied: pytz>=2020.1 in /Users/Sowrab/Documents/Udemy Courses/venv/lib/python3.12/site-packages (from pandas->fredapi) (2025.2)\n",
            "Requirement already satisfied: tzdata>=2022.7 in /Users/Sowrab/Documents/Udemy Courses/venv/lib/python3.12/site-packages (from pandas->fredapi) (2025.2)\n",
            "Requirement already satisfied: six>=1.5 in /Users/Sowrab/Documents/Udemy Courses/venv/lib/python3.12/site-packages (from python-dateutil>=2.8.2->pandas->fredapi) (1.16.0)\n",
            "Note: you may need to restart the kernel to use updated packages.\n"
          ]
        }
      ],
      "source": [
        "pip install fredapi"
      ]
    },
    {
      "cell_type": "code",
      "execution_count": 11,
      "metadata": {
        "colab": {
          "base_uri": "https://localhost:8080/"
        },
        "executionInfo": {
          "elapsed": 6322,
          "status": "ok",
          "timestamp": 1759925078024,
          "user": {
            "displayName": "Pratibha Kambi",
            "userId": "10228423695472283281"
          },
          "user_tz": -330
        },
        "id": "ZJ8sa9RUnMBx",
        "outputId": "05b20886-5fc9-4684-9e9d-37a690960645"
      },
      "outputs": [
        {
          "name": "stdout",
          "output_type": "stream",
          "text": [
            "Yahoo Finance data fetched for RELIANCE.NS\n",
            "Yahoo Finance data fetched for HDFCBANK.NS\n",
            "Yahoo Finance data fetched for ICICIBANK.NS\n",
            "Yahoo Finance data fetched for INFY.NS\n",
            "Yahoo Finance data fetched for TCS.NS\n",
            "Yahoo Finance data fetched for SBIN.NS\n",
            "Yahoo Finance data fetched for LT.NS\n",
            "Yahoo Finance data fetched for BHARTIARTL.NS\n",
            "Yahoo Finance data fetched for ITC.NS\n",
            "Yahoo Finance data fetched for ASIANPAINT.NS\n",
            "=== Stock Data ===\n",
            "Price       Date         Open         High          Low        Close  \\\n",
            "0     2020-10-16  1022.222168  1030.298340  1002.677612  1004.131348   \n",
            "1     2020-10-19  1010.707703  1028.544678   994.601379  1004.315918   \n",
            "2     2020-10-20  1005.608154  1012.069153   993.263000   994.947510   \n",
            "3     2020-10-21  1000.531677  1011.607666   968.111267   980.502563   \n",
            "4     2020-10-22   981.794739   984.148376   964.996155   972.357056   \n",
            "\n",
            "Price   Adj Close    Volume       Ticker  \n",
            "0      986.575684  21583600  RELIANCE.NS  \n",
            "1      986.757080  31200385  RELIANCE.NS  \n",
            "2      977.552490  18482288  RELIANCE.NS  \n",
            "3      963.360046  34082321  RELIANCE.NS  \n",
            "4      955.356995  30802210  RELIANCE.NS  \n",
            "=== SEC Filings ===\n",
            "        Ticker                 FilingDate FormType                    Title  \\\n",
            "0  RELIANCE.NS 2025-05-14 02:08:33.112635      S-1   RELIANCE.NS S-1 Filing   \n",
            "1  RELIANCE.NS 2025-03-27 02:08:33.114129      S-1   RELIANCE.NS S-1 Filing   \n",
            "2  RELIANCE.NS 2024-12-03 02:08:33.114161     10-K  RELIANCE.NS 10-K Filing   \n",
            "3  RELIANCE.NS 2025-07-26 02:08:33.114178     10-K  RELIANCE.NS 10-K Filing   \n",
            "4  RELIANCE.NS 2025-02-09 02:08:33.114192     10-Q  RELIANCE.NS 10-Q Filing   \n",
            "\n",
            "                                   Summary  \\\n",
            "0   Summary of S-1 filing for RELIANCE.NS.   \n",
            "1   Summary of S-1 filing for RELIANCE.NS.   \n",
            "2  Summary of 10-K filing for RELIANCE.NS.   \n",
            "3  Summary of 10-K filing for RELIANCE.NS.   \n",
            "4  Summary of 10-Q filing for RELIANCE.NS.   \n",
            "\n",
            "                                          FilingLink     Source  \n",
            "0  https://www.sec.gov/Archives/edgar/data/RELIAN...  SEC EDGAR  \n",
            "1  https://www.sec.gov/Archives/edgar/data/RELIAN...  SEC EDGAR  \n",
            "2  https://www.sec.gov/Archives/edgar/data/RELIAN...  SEC EDGAR  \n",
            "3  https://www.sec.gov/Archives/edgar/data/RELIAN...  SEC EDGAR  \n",
            "4  https://www.sec.gov/Archives/edgar/data/RELIAN...  SEC EDGAR  \n",
            "=== Kaggle News ===\n",
            "  Ticker                       Date                  Headline Category\n",
            "0      R 2025-10-16 02:08:33.118555  Kaggle mock news 1 for R  Company\n",
            "1      R 2025-10-15 02:08:33.118572  Kaggle mock news 2 for R   Market\n",
            "2      R 2025-10-14 02:08:33.118582  Kaggle mock news 3 for R   Market\n",
            "3      R 2025-10-13 02:08:33.118590  Kaggle mock news 4 for R   Market\n",
            "4      R 2025-10-12 02:08:33.118597  Kaggle mock news 5 for R   Market\n",
            "FRED data fetched for GDPC1 (2020-10-16 to 2025-10-16)\n",
            "FRED data fetched for UNRATE (2020-10-16 to 2025-10-16)\n",
            "FRED data fetched for CPIAUCSL (2020-10-16 to 2025-10-16)\n",
            "=== Economic Data ===\n",
            "                GDPC1  UNRATE  CPIAUCSL\n",
            "Date                                   \n",
            "2020-10-01  20791.917     6.9   260.319\n",
            "2020-11-01  20791.917     6.7   260.911\n",
            "2020-12-01  20791.917     6.7   262.045\n",
            "2021-01-01  21082.134     6.4   262.639\n",
            "2021-02-01  21082.134     6.2   263.573\n"
          ]
        }
      ],
      "source": [
        "import yfinance as yf\n",
        "import pandas as pd\n",
        "import numpy as np\n",
        "from datetime import datetime, timedelta\n",
        "from fredapi import Fred\n",
        "\n",
        "# --- Default Settings ---\n",
        "DEFAULT_TICKER = \"RELIANCE.NS\"\n",
        "DEFAULT_PERIOD = \"5y\"\n",
        "SUGGESTED_TICKERS = [\n",
        "    \"RELIANCE.NS\", \"HDFCBANK.NS\", \"ICICIBANK.NS\", \"INFY.NS\", \"TCS.NS\",\n",
        "    \"SBIN.NS\", \"LT.NS\", \"BHARTIARTL.NS\", \"ITC.NS\", \"ASIANPAINT.NS\"\n",
        "]\n",
        "FRED_API_KEY = '5f43b12d79e8665de611dd3d44b0e714'  # Replace with your key\n",
        "\n",
        "# --- Data Extraction Functions ---\n",
        "\n",
        "# Yahoo Finance Stock Prices\n",
        "def generate_synthetic_stock_data(ticker=DEFAULT_TICKER, days=1260):\n",
        "    dates = pd.date_range(end=datetime.today(), periods=days, freq='B')\n",
        "    df = pd.DataFrame({\n",
        "        'Date': dates,\n",
        "        'Open': np.random.uniform(100, 200, size=days),\n",
        "        'High': np.random.uniform(200, 300, size=days),\n",
        "        'Low': np.random.uniform(50, 100, size=days),\n",
        "        'Close': np.random.uniform(100, 200, size=days),\n",
        "        'Adj Close': np.random.uniform(100, 200, size=days),\n",
        "        'Volume': np.random.randint(1000000, 5000000, size=days),\n",
        "        'Ticker': ticker\n",
        "    })\n",
        "    return df\n",
        "\n",
        "def get_yfinance_data(ticker=DEFAULT_TICKER, period=DEFAULT_PERIOD, synthetic_days=1260):\n",
        "    \"\"\"Fetch stock data for a single ticker\"\"\"\n",
        "    try:\n",
        "        df = yf.download(ticker, period=period, progress=False, auto_adjust=False)\n",
        "        if df.empty:\n",
        "            raise ValueError(\"No data returned\")\n",
        "        if isinstance(df.columns, pd.MultiIndex):\n",
        "            df.columns = df.columns.get_level_values(0)\n",
        "        df = df.reset_index()\n",
        "        required_cols = ['Date', 'Open', 'High', 'Low', 'Close', 'Adj Close', 'Volume']\n",
        "        for col in required_cols:\n",
        "            if col not in df.columns:\n",
        "                df[col] = np.nan\n",
        "        df = df[required_cols]\n",
        "        df['Ticker'] = ticker\n",
        "        print(f\"Yahoo Finance data fetched for {ticker}\")\n",
        "    except Exception as e:\n",
        "        print(f\"Yahoo Finance error for {ticker}: {e}. Generating synthetic data.\")\n",
        "        df = generate_synthetic_stock_data(ticker=ticker, days=synthetic_days)\n",
        "    return df\n",
        "\n",
        "# SEC EDGAR Filings\n",
        "def get_sec_edgar_filings(ticker=DEFAULT_TICKER, filings_per_ticker=5):\n",
        "    form_types = ['10-K', '10-Q', '8-K', 'S-1', 'DEF 14A']\n",
        "    mock_filings = []\n",
        "    for i in range(filings_per_ticker):\n",
        "        filing_date = datetime.today() - timedelta(days=np.random.randint(1, 365))\n",
        "        form_type = np.random.choice(form_types)\n",
        "        mock_filings.append({\n",
        "            'Ticker': ticker,\n",
        "            'FilingDate': filing_date,\n",
        "            'FormType': form_type,\n",
        "            'Title': f\"{ticker} {form_type} Filing\",\n",
        "            'Summary': f\"Summary of {form_type} filing for {ticker}.\",\n",
        "            'FilingLink': f\"https://www.sec.gov/Archives/edgar/data/{ticker}/{i}\",\n",
        "            'Source': 'SEC EDGAR'\n",
        "        })\n",
        "    return pd.DataFrame(mock_filings)\n",
        "\n",
        "# Mock Kaggle-style Financial News\n",
        "def get_kaggle_financial_news_mock(ticker= DEFAULT_TICKER, days=1825):\n",
        "    \"\"\"\n",
        "    Generate mock financial news for multiple tickers.\n",
        "\n",
        "    Args:\n",
        "        tickers (list): List of ticker symbols to generate news for.\n",
        "        days (int): Number of past days to generate news (default 2 years ~ 730 days).\n",
        "\n",
        "    Returns:\n",
        "        pd.DataFrame: Mock financial news dataset with columns ['Ticker', 'Date', 'Headline', 'Category']\n",
        "    \"\"\"\n",
        "    news_data = []\n",
        "    for ticker in ticker:\n",
        "        for i in range(days):\n",
        "            news_data.append({\n",
        "                'Ticker': ticker,\n",
        "                'Date': datetime.today() - timedelta(days=i),\n",
        "                'Headline': f\"Kaggle mock news {i+1} for {ticker}\",\n",
        "                'Category': np.random.choice(['Economy', 'Company', 'Market']),\n",
        "            })\n",
        "    return pd.DataFrame(news_data)\n",
        "\n",
        "\n",
        "# FRED Economic Data\n",
        "def get_fred_economic_data(series_id, years=5):\n",
        "    \"\"\"Fetch economic data for the past N years from FRED API\"\"\"\n",
        "    end_date = datetime.today().strftime('%Y-%m-%d')\n",
        "    start_date = (datetime.today() - pd.DateOffset(years=years)).strftime('%Y-%m-%d')\n",
        "\n",
        "    try:\n",
        "        fred = Fred(api_key=FRED_API_KEY)\n",
        "        data = fred.get_series(series_id, start_date, end_date)\n",
        "        df = pd.DataFrame(data, columns=[series_id])\n",
        "        df['Date'] = df.index\n",
        "        df.set_index('Date', inplace=True)\n",
        "        print(f\"FRED data fetched for {series_id} ({start_date} to {end_date})\")\n",
        "        return df\n",
        "    except Exception as e:\n",
        "        print(f\"FRED API error for {series_id}: {e}\")\n",
        "        return pd.DataFrame()\n",
        "\n",
        "\n",
        "# --- Execute Extraction Pipeline with SUGGESTED_TICKERS ---\n",
        "\n",
        "# Yahoo Finance for all suggested tickers\n",
        "all_stock_data = [get_yfinance_data(ticker=t) for t in SUGGESTED_TICKERS]\n",
        "combined_stock_df = pd.concat(all_stock_data, ignore_index=True)\n",
        "print(\"=== Stock Data ===\")\n",
        "print(combined_stock_df.head())\n",
        "\n",
        "# SEC Filings for all suggested tickers\n",
        "all_sec_filings = [get_sec_edgar_filings(ticker=t) for t in SUGGESTED_TICKERS]\n",
        "sec_filings_df = pd.concat(all_sec_filings, ignore_index=True)\n",
        "print(\"=== SEC Filings ===\")\n",
        "print(sec_filings_df.head())\n",
        "\n",
        "# Mock Kaggle News for all suggested tickers\n",
        "all_news_data = [get_kaggle_financial_news_mock(ticker=t) for t in SUGGESTED_TICKERS]\n",
        "mock_kaggle_news_df = pd.concat(all_news_data, ignore_index=True)\n",
        "print(\"=== Kaggle News ===\")\n",
        "print(mock_kaggle_news_df.head())\n",
        "\n",
        "# FRED Economic Data\n",
        "gdp_df = get_fred_economic_data('GDPC1')\n",
        "unemployment_rate_df = get_fred_economic_data('UNRATE')\n",
        "cpi_df = get_fred_economic_data('CPIAUCSL')\n",
        "\n",
        "economic_df = gdp_df.join([unemployment_rate_df, cpi_df], how='outer')\n",
        "economic_df = economic_df.sort_index().ffill().infer_objects(copy=False)\n",
        "print(\"=== Economic Data ===\")\n",
        "print(economic_df.head())\n",
        "\n"
      ]
    },
    {
      "cell_type": "markdown",
      "metadata": {},
      "source": [
        "#DATA MERGE"
      ]
    },
    {
      "cell_type": "code",
      "execution_count": 12,
      "metadata": {
        "colab": {
          "base_uri": "https://localhost:8080/"
        },
        "executionInfo": {
          "elapsed": 437,
          "status": "ok",
          "timestamp": 1759925091456,
          "user": {
            "displayName": "Pratibha Kambi",
            "userId": "10228423695472283281"
          },
          "user_tz": -330
        },
        "id": "wy0-YnR434GD",
        "outputId": "5e6e3f37-ec3a-4450-dd06-047c0a89fd73"
      },
      "outputs": [
        {
          "name": "stdout",
          "output_type": "stream",
          "text": [
            "✅ Step 1 done: Stock + News merged\n",
            "        Date         Open         High          Low        Close   Adj Close  \\\n",
            "0 2020-10-16  1022.222168  1030.298340  1002.677612  1004.131348  986.575684   \n",
            "1 2020-10-19  1010.707703  1028.544678   994.601379  1004.315918  986.757080   \n",
            "2 2020-10-20  1005.608154  1012.069153   993.263000   994.947510  977.552490   \n",
            "3 2020-10-21  1000.531677  1011.607666   968.111267   980.502563  963.360046   \n",
            "4 2020-10-22   981.794739   984.148376   964.996155   972.357056  955.356995   \n",
            "\n",
            "     Volume       Ticker  NewsCount  \n",
            "0  21583600  RELIANCE.NS          0  \n",
            "1  31200385  RELIANCE.NS          0  \n",
            "2  18482288  RELIANCE.NS          0  \n",
            "3  34082321  RELIANCE.NS          0  \n",
            "4  30802210  RELIANCE.NS          0  \n"
          ]
        }
      ],
      "source": [
        "# Ensure correct datatypes\n",
        "combined_stock_df['Date'] = pd.to_datetime(combined_stock_df['Date'])\n",
        "mock_kaggle_news_df['Date'] = pd.to_datetime(mock_kaggle_news_df['Date'])\n",
        "combined_stock_df['Ticker'] = combined_stock_df['Ticker'].astype(str)\n",
        "mock_kaggle_news_df['Ticker'] = mock_kaggle_news_df['Ticker'].astype(str)\n",
        "\n",
        "# Aggregate news by Ticker + Date\n",
        "daily_news_count = (\n",
        "    mock_kaggle_news_df.groupby(['Ticker', 'Date'])\n",
        "    .size()\n",
        "    .reset_index(name='NewsCount')\n",
        ")\n",
        "\n",
        "# Merge stock with news\n",
        "stock_news_df = pd.merge(\n",
        "    combined_stock_df,\n",
        "    daily_news_count,\n",
        "    on=['Ticker', 'Date'],\n",
        "    how='left'\n",
        ")\n",
        "\n",
        "# Fill NaNs in news\n",
        "stock_news_df['NewsCount'] = stock_news_df['NewsCount'].fillna(0).astype(int)\n",
        "\n",
        "print(\"✅ Step 1 done: Stock + News merged\")\n",
        "print(stock_news_df.head())\n"
      ]
    },
    {
      "cell_type": "code",
      "execution_count": 13,
      "metadata": {
        "colab": {
          "base_uri": "https://localhost:8080/"
        },
        "executionInfo": {
          "elapsed": 399,
          "status": "ok",
          "timestamp": 1759925108535,
          "user": {
            "displayName": "Pratibha Kambi",
            "userId": "10228423695472283281"
          },
          "user_tz": -330
        },
        "id": "KgiM3chE49JF",
        "outputId": "f2c7fe8e-e946-4451-9928-db2ad23acc8b"
      },
      "outputs": [
        {
          "name": "stdout",
          "output_type": "stream",
          "text": [
            "✅ Step 2 done: Stock + News + Filings merged\n",
            "        Date         Open         High          Low        Close    Adj Close  \\\n",
            "0 2020-10-16  2089.949951  2090.000000  2055.550049  2061.199951  1972.988525   \n",
            "1 2020-10-19  2079.949951  2079.949951  2056.500000  2070.100098  1981.507568   \n",
            "2 2020-10-20  2077.899902  2131.800049  2067.350098  2118.500000  2027.835693   \n",
            "3 2020-10-21  2130.000000  2143.850098  2081.250000  2114.300049  2023.816284   \n",
            "4 2020-10-22  2114.199951  2116.850098  2076.800049  2099.899902  2010.032104   \n",
            "\n",
            "    Volume         Ticker  NewsCount FilingDate FormType Title Summary  \\\n",
            "0  2017706  ASIANPAINT.NS          0        NaT      NaN   NaN     NaN   \n",
            "1  1338404  ASIANPAINT.NS          0        NaT      NaN   NaN     NaN   \n",
            "2  2377713  ASIANPAINT.NS          0        NaT      NaN   NaN     NaN   \n",
            "3  2895432  ASIANPAINT.NS          0        NaT      NaN   NaN     NaN   \n",
            "4  2755686  ASIANPAINT.NS          0        NaT      NaN   NaN     NaN   \n",
            "\n",
            "  FilingLink Source  \n",
            "0        NaN    NaN  \n",
            "1        NaN    NaN  \n",
            "2        NaN    NaN  \n",
            "3        NaN    NaN  \n",
            "4        NaN    NaN  \n"
          ]
        }
      ],
      "source": [
        "# Convert filing date\n",
        "sec_filings_df['FilingDate'] = pd.to_datetime(sec_filings_df['FilingDate'])\n",
        "sec_filings_df['Ticker'] = sec_filings_df['Ticker'].astype(str)\n",
        "\n",
        "# Sort data for merge_asof\n",
        "stock_news_sorted = stock_news_df.sort_values(['Ticker', 'Date']).reset_index(drop=True)\n",
        "filings_sorted = sec_filings_df.sort_values(['Ticker', 'FilingDate']).reset_index(drop=True)\n",
        "\n",
        "merged_slices = []\n",
        "for ticker in stock_news_sorted['Ticker'].unique():\n",
        "    stock_t = stock_news_sorted[stock_news_sorted['Ticker'] == ticker]\n",
        "    filings_t = filings_sorted[filings_sorted['Ticker'] == ticker]\n",
        "\n",
        "    if not filings_t.empty:\n",
        "        merged = pd.merge_asof(\n",
        "            stock_t.sort_values('Date'),\n",
        "            filings_t.drop(columns=['Ticker'], errors='ignore').sort_values('FilingDate'),\n",
        "            left_on='Date',\n",
        "            right_on='FilingDate',\n",
        "            direction='backward'\n",
        "        )\n",
        "    else:\n",
        "        merged = stock_t.copy()\n",
        "        merged['FilingDate'] = pd.NaT\n",
        "        merged['FormType'] = np.nan\n",
        "        merged['Title'] = np.nan\n",
        "        merged['Summary'] = np.nan\n",
        "        merged['FilingLink'] = np.nan\n",
        "        merged['Source'] = np.nan\n",
        "\n",
        "    merged['Ticker'] = ticker\n",
        "    merged_slices.append(merged)\n",
        "\n",
        "stock_news_filings_df = pd.concat(merged_slices, ignore_index=True)\n",
        "\n",
        "print(\"✅ Step 2 done: Stock + News + Filings merged\")\n",
        "print(stock_news_filings_df.head())\n"
      ]
    },
    {
      "cell_type": "code",
      "execution_count": 15,
      "metadata": {
        "colab": {
          "base_uri": "https://localhost:8080/"
        },
        "executionInfo": {
          "elapsed": 473,
          "status": "ok",
          "timestamp": 1759925171253,
          "user": {
            "displayName": "Pratibha Kambi",
            "userId": "10228423695472283281"
          },
          "user_tz": -330
        },
        "id": "pYzA_mmABEwC",
        "outputId": "dd04ed9e-e804-4d53-f5e2-e3ebc5126661"
      },
      "outputs": [
        {
          "name": "stdout",
          "output_type": "stream",
          "text": [
            "Step 3 done: Added economic indicators\n",
            "        Date         Open         High          Low        Close    Adj Close  \\\n",
            "0 2020-10-16  2089.949951  2090.000000  2055.550049  2061.199951  1972.988525   \n",
            "1 2020-10-16   194.000000   196.750000   191.600006   195.949997   180.806305   \n",
            "2 2020-10-16  1022.222168  1030.298340  1002.677612  1004.131348   986.575684   \n",
            "3 2020-10-16   894.000000   903.500000   889.500000   894.099976   832.335388   \n",
            "4 2020-10-16  2750.100098  2771.649902  2731.300049  2763.300049  2468.614746   \n",
            "\n",
            "     Volume         Ticker  NewsCount FilingDate FormType Title Summary  \\\n",
            "0   2017706  ASIANPAINT.NS          0        NaT      NaN   NaN     NaN   \n",
            "1  36893126        SBIN.NS          0        NaT      NaN   NaN     NaN   \n",
            "2  21583600    RELIANCE.NS          0        NaT      NaN   NaN     NaN   \n",
            "3   2373435          LT.NS          0        NaT      NaN   NaN     NaN   \n",
            "4   5273773         TCS.NS          0        NaT      NaN   NaN     NaN   \n",
            "\n",
            "  FilingLink Source      GDPC1  UNRATE  CPIAUCSL  \n",
            "0        NaN    NaN  20791.917     6.9   260.319  \n",
            "1        NaN    NaN  20791.917     6.9   260.319  \n",
            "2        NaN    NaN  20791.917     6.9   260.319  \n",
            "3        NaN    NaN  20791.917     6.9   260.319  \n",
            "4        NaN    NaN  20791.917     6.9   260.319  \n",
            "Columns in master dataset: ['Date', 'Open', 'High', 'Low', 'Close', 'Adj Close', 'Volume', 'Ticker', 'NewsCount', 'FilingDate', 'FormType', 'Title', 'Summary', 'FilingLink', 'Source', 'GDPC1', 'UNRATE', 'CPIAUCSL']\n"
          ]
        }
      ],
      "source": [
        "# Reset index and ensure Date column\n",
        "economic_df_sorted = economic_df.sort_index().ffill().reset_index().rename(columns={'index':'Date'})\n",
        "economic_df_sorted['Date'] = pd.to_datetime(economic_df_sorted['Date'])\n",
        "\n",
        "# Sort left dataframe\n",
        "stock_news_filings_sorted = stock_news_filings_df.sort_values('Date').reset_index(drop=True)\n",
        "\n",
        "# Merge using merge_asof\n",
        "master_df = pd.merge_asof(\n",
        "    stock_news_filings_sorted,\n",
        "    economic_df_sorted,\n",
        "    on='Date',\n",
        "    direction='backward'\n",
        ")\n",
        "\n",
        "print(\"Step 3 done: Added economic indicators\")\n",
        "print(master_df.head())\n",
        "print(\"Columns in master dataset:\", master_df.columns.tolist())\n"
      ]
    },
    {
      "cell_type": "code",
      "execution_count": 17,
      "metadata": {
        "colab": {
          "base_uri": "https://localhost:8080/"
        },
        "executionInfo": {
          "elapsed": 403,
          "status": "ok",
          "timestamp": 1759925177094,
          "user": {
            "displayName": "Pratibha Kambi",
            "userId": "10228423695472283281"
          },
          "user_tz": -330
        },
        "id": "f_36_Uio2vhb",
        "outputId": "7291e5d9-68f4-41cb-9a10-3b639e007717"
      },
      "outputs": [
        {
          "name": "stdout",
          "output_type": "stream",
          "text": [
            "Step 1 done: Stock + News merged\n",
            "        Date         Open         High          Low        Close   Adj Close  \\\n",
            "0 2020-10-16  1022.222168  1030.298340  1002.677612  1004.131348  986.575684   \n",
            "1 2020-10-19  1010.707703  1028.544678   994.601379  1004.315918  986.757080   \n",
            "2 2020-10-20  1005.608154  1012.069153   993.263000   994.947510  977.552490   \n",
            "3 2020-10-21  1000.531677  1011.607666   968.111267   980.502563  963.360046   \n",
            "4 2020-10-22   981.794739   984.148376   964.996155   972.357056  955.356995   \n",
            "\n",
            "     Volume       Ticker  NewsCount  \n",
            "0  21583600  RELIANCE.NS          0  \n",
            "1  31200385  RELIANCE.NS          0  \n",
            "2  18482288  RELIANCE.NS          0  \n",
            "3  34082321  RELIANCE.NS          0  \n",
            "4  30802210  RELIANCE.NS          0  \n"
          ]
        }
      ],
      "source": [
        "# Ensure correct datatypes\n",
        "combined_stock_df['Date'] = pd.to_datetime(combined_stock_df['Date'])\n",
        "mock_kaggle_news_df['Date'] = pd.to_datetime(mock_kaggle_news_df['Date'])\n",
        "combined_stock_df['Ticker'] = combined_stock_df['Ticker'].astype(str)\n",
        "mock_kaggle_news_df['Ticker'] = mock_kaggle_news_df['Ticker'].astype(str)\n",
        "\n",
        "# Aggregate news by Ticker + Date\n",
        "daily_news_count = (\n",
        "    mock_kaggle_news_df.groupby(['Ticker', 'Date'])\n",
        "    .size()\n",
        "    .reset_index(name='NewsCount')\n",
        ")\n",
        "\n",
        "# Merge stock with news\n",
        "stock_news_df = pd.merge(\n",
        "    combined_stock_df,\n",
        "    daily_news_count,\n",
        "    on=['Ticker', 'Date'],\n",
        "    how='left'\n",
        ")\n",
        "\n",
        "# Fill NaNs in news\n",
        "stock_news_df['NewsCount'] = stock_news_df['NewsCount'].fillna(0).astype(int)\n",
        "\n",
        "print(\"Step 1 done: Stock + News merged\")\n",
        "print(stock_news_df.head())\n"
      ]
    },
    {
      "cell_type": "code",
      "execution_count": 19,
      "metadata": {
        "colab": {
          "base_uri": "https://localhost:8080/"
        },
        "executionInfo": {
          "elapsed": 454,
          "status": "ok",
          "timestamp": 1759925190041,
          "user": {
            "displayName": "Pratibha Kambi",
            "userId": "10228423695472283281"
          },
          "user_tz": -330
        },
        "id": "ofliixmDkIF2",
        "outputId": "3ae9002a-c097-4b73-b500-a1c777fb72c7"
      },
      "outputs": [
        {
          "name": "stdout",
          "output_type": "stream",
          "text": [
            "master_df has been saved to './master_investment_dataset.csv'\n"
          ]
        }
      ],
      "source": [
        "# Define the path\n",
        "save_path = \"./master_investment_dataset.csv\"\n",
        "\n",
        "# Save the DataFrame\n",
        "master_df.to_csv(save_path, index=False)\n",
        "\n",
        "print(f\"master_df has been saved to '{save_path}'\")\n"
      ]
    },
    {
      "cell_type": "markdown",
      "metadata": {},
      "source": [
        "# DATA PRE-PROCESSING"
      ]
    },
    {
      "cell_type": "code",
      "execution_count": 20,
      "metadata": {
        "id": "no7_eiTIWlxc"
      },
      "outputs": [],
      "source": [
        "import pandas as pd\n",
        "import numpy as np\n",
        "import seaborn as sns\n",
        "import matplotlib.pyplot as plt\n",
        "import re\n",
        "\n",
        "\n",
        "# Ignore all warnings\n",
        "import warnings\n",
        "warnings.filterwarnings('ignore')"
      ]
    },
    {
      "cell_type": "code",
      "execution_count": 21,
      "metadata": {
        "id": "taxqnpGyWvx_"
      },
      "outputs": [],
      "source": [
        "#Read the dataset\n",
        "df = pd.read_csv(\"./master_investment_dataset.csv\")"
      ]
    },
    {
      "cell_type": "code",
      "execution_count": 22,
      "metadata": {
        "colab": {
          "base_uri": "https://localhost:8080/"
        },
        "executionInfo": {
          "elapsed": 445,
          "status": "ok",
          "timestamp": 1760424103432,
          "user": {
            "displayName": "Pratibha Kambi",
            "userId": "10228423695472283281"
          },
          "user_tz": -330
        },
        "id": "CAWc0qKQW0YY",
        "outputId": "745c9ecf-4b02-466d-c742-7d27209e3d86"
      },
      "outputs": [
        {
          "data": {
            "text/plain": [
              "Index(['Date', 'Open', 'High', 'Low', 'Close', 'Adj Close', 'Volume', 'Ticker',\n",
              "       'NewsCount', 'FilingDate', 'FormType', 'Title', 'Summary', 'FilingLink',\n",
              "       'Source', 'GDPC1', 'UNRATE', 'CPIAUCSL'],\n",
              "      dtype='object')"
            ]
          },
          "execution_count": 22,
          "metadata": {},
          "output_type": "execute_result"
        }
      ],
      "source": [
        "#List of features in a dataset\n",
        "df.columns"
      ]
    },
    {
      "cell_type": "code",
      "execution_count": 23,
      "metadata": {
        "colab": {
          "base_uri": "https://localhost:8080/"
        },
        "executionInfo": {
          "elapsed": 428,
          "status": "ok",
          "timestamp": 1760424106079,
          "user": {
            "displayName": "Pratibha Kambi",
            "userId": "10228423695472283281"
          },
          "user_tz": -330
        },
        "id": "zKjfvDMNW0gw",
        "outputId": "b8b2193d-7cd6-4024-f48f-3a6939073030"
      },
      "outputs": [
        {
          "name": "stdout",
          "output_type": "stream",
          "text": [
            "<class 'pandas.core.frame.DataFrame'>\n",
            "RangeIndex: 12380 entries, 0 to 12379\n",
            "Data columns (total 18 columns):\n",
            " #   Column      Non-Null Count  Dtype  \n",
            "---  ------      --------------  -----  \n",
            " 0   Date        12380 non-null  object \n",
            " 1   Open        12380 non-null  float64\n",
            " 2   High        12380 non-null  float64\n",
            " 3   Low         12380 non-null  float64\n",
            " 4   Close       12380 non-null  float64\n",
            " 5   Adj Close   12380 non-null  float64\n",
            " 6   Volume      12380 non-null  int64  \n",
            " 7   Ticker      12380 non-null  object \n",
            " 8   NewsCount   12380 non-null  int64  \n",
            " 9   FilingDate  2089 non-null   object \n",
            " 10  FormType    2089 non-null   object \n",
            " 11  Title       2089 non-null   object \n",
            " 12  Summary     2089 non-null   object \n",
            " 13  FilingLink  2089 non-null   object \n",
            " 14  Source      2089 non-null   object \n",
            " 15  GDPC1       12380 non-null  float64\n",
            " 16  UNRATE      12380 non-null  float64\n",
            " 17  CPIAUCSL    12380 non-null  float64\n",
            "dtypes: float64(8), int64(2), object(8)\n",
            "memory usage: 1.7+ MB\n"
          ]
        }
      ],
      "source": [
        "df.info(())"
      ]
    },
    {
      "cell_type": "code",
      "execution_count": 24,
      "metadata": {
        "id": "mYgxhyYOuyDn"
      },
      "outputs": [],
      "source": [
        "df = df.rename(columns={\n",
        "    \"Source\": \"DataSource\",\n",
        "    \"GDPC1\": \"RealGDP\",\n",
        "    \"UNRATE\": \"UnemploymentRate\",\n",
        "    \"CPIAUCSL\": \"ConsumerPriceIndex\"\n",
        "})"
      ]
    },
    {
      "cell_type": "code",
      "execution_count": 25,
      "metadata": {
        "colab": {
          "base_uri": "https://localhost:8080/",
          "height": 700
        },
        "executionInfo": {
          "elapsed": 7,
          "status": "ok",
          "timestamp": 1760424112319,
          "user": {
            "displayName": "Pratibha Kambi",
            "userId": "10228423695472283281"
          },
          "user_tz": -330
        },
        "id": "J3WBKWNRvQY8",
        "outputId": "ce4a8641-aafe-43a3-d9ac-d3ec09f2ac60"
      },
      "outputs": [
        {
          "data": {
            "text/plain": [
              "Date                      0\n",
              "Open                      0\n",
              "High                      0\n",
              "Low                       0\n",
              "Close                     0\n",
              "Adj Close                 0\n",
              "Volume                    0\n",
              "Ticker                    0\n",
              "NewsCount                 0\n",
              "FilingDate            10291\n",
              "FormType              10291\n",
              "Title                 10291\n",
              "Summary               10291\n",
              "FilingLink            10291\n",
              "DataSource            10291\n",
              "RealGDP                   0\n",
              "UnemploymentRate          0\n",
              "ConsumerPriceIndex        0\n",
              "dtype: int64"
            ]
          },
          "execution_count": 25,
          "metadata": {},
          "output_type": "execute_result"
        }
      ],
      "source": [
        "#Check for null values in the datset\n",
        "df.isna().sum()"
      ]
    },
    {
      "cell_type": "code",
      "execution_count": 26,
      "metadata": {
        "id": "CXDGbeycvQb4"
      },
      "outputs": [],
      "source": [
        "df_final = df.copy()"
      ]
    },
    {
      "cell_type": "code",
      "execution_count": 28,
      "metadata": {
        "colab": {
          "base_uri": "https://localhost:8080/"
        },
        "executionInfo": {
          "elapsed": 419,
          "status": "ok",
          "timestamp": 1760424123112,
          "user": {
            "displayName": "Pratibha Kambi",
            "userId": "10228423695472283281"
          },
          "user_tz": -330
        },
        "id": "sa-DaAW41-fm",
        "outputId": "5832b037-bbf8-4021-935b-d987c93fb575"
      },
      "outputs": [
        {
          "data": {
            "text/plain": [
              "(12380, 18)"
            ]
          },
          "execution_count": 28,
          "metadata": {},
          "output_type": "execute_result"
        }
      ],
      "source": [
        "df_final.shape"
      ]
    },
    {
      "cell_type": "code",
      "execution_count": 29,
      "metadata": {
        "colab": {
          "base_uri": "https://localhost:8080/"
        },
        "executionInfo": {
          "elapsed": 671,
          "status": "ok",
          "timestamp": 1760424143770,
          "user": {
            "displayName": "Pratibha Kambi",
            "userId": "10228423695472283281"
          },
          "user_tz": -330
        },
        "id": "d3RJH4sevQjo",
        "outputId": "3dc77540-6577-46c3-97ee-3b27f9d2e351"
      },
      "outputs": [
        {
          "name": "stdout",
          "output_type": "stream",
          "text": [
            "          Ticker        Date                 FilingDate  HasFiling\n",
            "0  ASIANPAINT.NS  2020-10-16 2025-01-05 02:08:33.116959          1\n",
            "1  ASIANPAINT.NS  2020-10-19 2025-01-05 02:08:33.116959          1\n",
            "2  ASIANPAINT.NS  2020-10-20 2025-01-05 02:08:33.116959          1\n",
            "3  ASIANPAINT.NS  2020-10-21 2025-01-05 02:08:33.116959          1\n",
            "4  ASIANPAINT.NS  2020-10-22 2025-01-05 02:08:33.116959          1\n",
            "5  ASIANPAINT.NS  2020-10-23 2025-01-05 02:08:33.116959          1\n",
            "6  ASIANPAINT.NS  2020-10-26 2025-01-05 02:08:33.116959          1\n",
            "7  ASIANPAINT.NS  2020-10-27 2025-01-05 02:08:33.116959          1\n",
            "8  ASIANPAINT.NS  2020-10-28 2025-01-05 02:08:33.116959          1\n",
            "9  ASIANPAINT.NS  2020-10-29 2025-01-05 02:08:33.116959          1\n",
            "Remaining NaT after ffill + bfill: 0\n"
          ]
        }
      ],
      "source": [
        "# Ensure FilingDate is datetime\n",
        "df_final['FilingDate'] = pd.to_datetime(df_final['FilingDate'], errors='coerce')\n",
        "\n",
        "# Sort by Ticker and Date\n",
        "df_final = df_final.sort_values(['Ticker', 'Date']).reset_index(drop=True)\n",
        "\n",
        "# Forward-fill then backward-fill FilingDate **in-place**\n",
        "df_final['FilingDate'] = df_final.groupby('Ticker')['FilingDate'].transform(lambda x: x.ffill().bfill())\n",
        "\n",
        "# Add a flag for rows that originally had a filing\n",
        "df_final['HasFiling'] = df_final['FilingDate'].notna().astype(int)\n",
        "\n",
        "# Quick check\n",
        "print(df_final[['Ticker', 'Date', 'FilingDate', 'HasFiling']].head(10))\n",
        "print(\"Remaining NaT after ffill + bfill:\", df_final['FilingDate'].isna().sum())\n"
      ]
    },
    {
      "cell_type": "code",
      "execution_count": 30,
      "metadata": {
        "id": "qr3FhP4_7P6H"
      },
      "outputs": [],
      "source": [
        "df_final['FormType'] = df_final['FormType'].fillna('Unknown')\n",
        "df_final['Title'] = df_final['Title'].fillna('No Title')\n",
        "df_final['Summary'] = df_final['Summary'].fillna('No Summary')\n",
        "df_final['FilingLink'] = df_final['FilingLink'].fillna('No Link')\n",
        "df_final['DataSource'] = df_final['DataSource'].fillna('Unknown')\n"
      ]
    },
    {
      "cell_type": "code",
      "execution_count": 31,
      "metadata": {
        "colab": {
          "base_uri": "https://localhost:8080/",
          "height": 734
        },
        "executionInfo": {
          "elapsed": 417,
          "status": "ok",
          "timestamp": 1760424148196,
          "user": {
            "displayName": "Pratibha Kambi",
            "userId": "10228423695472283281"
          },
          "user_tz": -330
        },
        "id": "P0GRtOCI3Eqx",
        "outputId": "88e14c4f-d12f-44cf-b0a5-fc86a625b427"
      },
      "outputs": [
        {
          "data": {
            "text/plain": [
              "Date                  0\n",
              "Open                  0\n",
              "High                  0\n",
              "Low                   0\n",
              "Close                 0\n",
              "Adj Close             0\n",
              "Volume                0\n",
              "Ticker                0\n",
              "NewsCount             0\n",
              "FilingDate            0\n",
              "FormType              0\n",
              "Title                 0\n",
              "Summary               0\n",
              "FilingLink            0\n",
              "DataSource            0\n",
              "RealGDP               0\n",
              "UnemploymentRate      0\n",
              "ConsumerPriceIndex    0\n",
              "HasFiling             0\n",
              "dtype: int64"
            ]
          },
          "execution_count": 31,
          "metadata": {},
          "output_type": "execute_result"
        }
      ],
      "source": [
        "df_final.isna().sum()"
      ]
    },
    {
      "cell_type": "code",
      "execution_count": 32,
      "metadata": {
        "id": "0M1h-U2d7WtI"
      },
      "outputs": [],
      "source": [
        "# Convert FilingDate in SEC filings\n",
        "df_final['FilingDate'] = pd.to_datetime(df_final['FilingDate'], errors='coerce')\n",
        "\n",
        "# Convert Date in stock data\n",
        "df_final['Date'] = pd.to_datetime(df_final['Date'], errors='coerce')"
      ]
    },
    {
      "cell_type": "code",
      "execution_count": 33,
      "metadata": {
        "colab": {
          "base_uri": "https://localhost:8080/"
        },
        "executionInfo": {
          "elapsed": 423,
          "status": "ok",
          "timestamp": 1760424159022,
          "user": {
            "displayName": "Pratibha Kambi",
            "userId": "10228423695472283281"
          },
          "user_tz": -330
        },
        "id": "a8SmutZG7Wy_",
        "outputId": "29bb0718-f9d7-4e72-9760-65daa64d0438"
      },
      "outputs": [
        {
          "name": "stdout",
          "output_type": "stream",
          "text": [
            "Number of duplicate rows: 0\n",
            "Empty DataFrame\n",
            "Columns: [Date, Open, High, Low, Close, Adj Close, Volume, Ticker, NewsCount, FilingDate, FormType, Title, Summary, FilingLink, DataSource, RealGDP, UnemploymentRate, ConsumerPriceIndex, HasFiling]\n",
            "Index: []\n"
          ]
        }
      ],
      "source": [
        "# Find all duplicate rows\n",
        "duplicate_rows = df_final[df_final.duplicated()]\n",
        "print(f\"Number of duplicate rows: {duplicate_rows.shape[0]}\")\n",
        "print(duplicate_rows)"
      ]
    },
    {
      "cell_type": "code",
      "execution_count": 34,
      "metadata": {
        "colab": {
          "base_uri": "https://localhost:8080/"
        },
        "executionInfo": {
          "elapsed": 3,
          "status": "ok",
          "timestamp": 1760424160707,
          "user": {
            "displayName": "Pratibha Kambi",
            "userId": "10228423695472283281"
          },
          "user_tz": -330
        },
        "id": "JtI-UpXxqhZd",
        "outputId": "d132fefa-0ae0-4ea4-d15f-b8351ff98993"
      },
      "outputs": [
        {
          "name": "stdout",
          "output_type": "stream",
          "text": [
            "<class 'pandas.core.frame.DataFrame'>\n",
            "RangeIndex: 12380 entries, 0 to 12379\n",
            "Data columns (total 19 columns):\n",
            " #   Column              Non-Null Count  Dtype         \n",
            "---  ------              --------------  -----         \n",
            " 0   Date                12380 non-null  datetime64[ns]\n",
            " 1   Open                12380 non-null  float64       \n",
            " 2   High                12380 non-null  float64       \n",
            " 3   Low                 12380 non-null  float64       \n",
            " 4   Close               12380 non-null  float64       \n",
            " 5   Adj Close           12380 non-null  float64       \n",
            " 6   Volume              12380 non-null  int64         \n",
            " 7   Ticker              12380 non-null  object        \n",
            " 8   NewsCount           12380 non-null  int64         \n",
            " 9   FilingDate          12380 non-null  datetime64[ns]\n",
            " 10  FormType            12380 non-null  object        \n",
            " 11  Title               12380 non-null  object        \n",
            " 12  Summary             12380 non-null  object        \n",
            " 13  FilingLink          12380 non-null  object        \n",
            " 14  DataSource          12380 non-null  object        \n",
            " 15  RealGDP             12380 non-null  float64       \n",
            " 16  UnemploymentRate    12380 non-null  float64       \n",
            " 17  ConsumerPriceIndex  12380 non-null  float64       \n",
            " 18  HasFiling           12380 non-null  int64         \n",
            "dtypes: datetime64[ns](2), float64(8), int64(3), object(6)\n",
            "memory usage: 1.8+ MB\n"
          ]
        }
      ],
      "source": [
        "df_final.info()"
      ]
    },
    {
      "cell_type": "code",
      "execution_count": 35,
      "metadata": {
        "id": "lyKdTAVhoNyh"
      },
      "outputs": [],
      "source": [
        "# Convert to float first (coerce errors to NaN)\n",
        "df_final['Open'] = pd.to_numeric(df_final['Open'], errors='coerce')\n",
        "df_final['High'] = pd.to_numeric(df_final['High'], errors='coerce')\n",
        "df_final['Low'] = pd.to_numeric(df_final['Low'], errors='coerce')\n",
        "df_final['Close'] = pd.to_numeric(df_final['Close'], errors='coerce')\n",
        "df_final['Adj Close'] = pd.to_numeric(df_final['Adj Close'], errors='coerce')\n",
        "df_final['RealGDP'] = pd.to_numeric(df_final['RealGDP'], errors='coerce')\n",
        "df_final['UnemploymentRate'] = pd.to_numeric(df_final['UnemploymentRate'], errors='coerce')\n",
        "df_final['ConsumerPriceIndex'] = pd.to_numeric(df_final['ConsumerPriceIndex'], errors='coerce')\n",
        "\n",
        "# Now format to 2 decimals (for prompt use)\n",
        "numeric_cols = ['Open', 'High', 'Low', 'Close', 'Adj Close',\n",
        "                'RealGDP', 'UnemploymentRate', 'ConsumerPriceIndex']\n",
        "\n",
        "for col in numeric_cols:\n",
        "    df_final[col] = df_final[col].apply(lambda x: f\"{x:.2f}\" if pd.notnull(x) else \"NaN\")\n"
      ]
    },
    {
      "cell_type": "code",
      "execution_count": 36,
      "metadata": {
        "colab": {
          "base_uri": "https://localhost:8080/"
        },
        "executionInfo": {
          "elapsed": 708,
          "status": "ok",
          "timestamp": 1760424170910,
          "user": {
            "displayName": "Pratibha Kambi",
            "userId": "10228423695472283281"
          },
          "user_tz": -330
        },
        "id": "wYpp36FXoN6U",
        "outputId": "3b0032d0-f34a-4e18-a6f9-53949a46db4f"
      },
      "outputs": [
        {
          "data": {
            "text/plain": [
              "Index(['Date', 'Open', 'High', 'Low', 'Close', 'Adj Close', 'Volume', 'Ticker',\n",
              "       'NewsCount', 'FilingDate', 'FormType', 'Title', 'Summary', 'FilingLink',\n",
              "       'DataSource', 'RealGDP', 'UnemploymentRate', 'ConsumerPriceIndex',\n",
              "       'HasFiling'],\n",
              "      dtype='object')"
            ]
          },
          "execution_count": 36,
          "metadata": {},
          "output_type": "execute_result"
        }
      ],
      "source": [
        "df_final.columns"
      ]
    },
    {
      "cell_type": "code",
      "execution_count": 37,
      "metadata": {
        "id": "VAR3nHaEsBVa"
      },
      "outputs": [],
      "source": [
        "# --- Copy original dataframe ---\n",
        "df2 = df_final.copy()"
      ]
    },
    {
      "cell_type": "code",
      "execution_count": 38,
      "metadata": {
        "colab": {
          "base_uri": "https://localhost:8080/"
        },
        "executionInfo": {
          "elapsed": 688,
          "status": "ok",
          "timestamp": 1760424175244,
          "user": {
            "displayName": "Pratibha Kambi",
            "userId": "10228423695472283281"
          },
          "user_tz": -330
        },
        "id": "HovQV4ldsC8T",
        "outputId": "03666697-8c70-46e4-ef24-4913805e32fd"
      },
      "outputs": [
        {
          "data": {
            "text/plain": [
              "Index(['Date', 'Open', 'High', 'Low', 'Close', 'Adj Close', 'Volume', 'Ticker',\n",
              "       'NewsCount', 'FilingDate', 'FormType', 'Title', 'Summary', 'FilingLink',\n",
              "       'DataSource', 'RealGDP', 'UnemploymentRate', 'ConsumerPriceIndex',\n",
              "       'HasFiling'],\n",
              "      dtype='object')"
            ]
          },
          "execution_count": 38,
          "metadata": {},
          "output_type": "execute_result"
        }
      ],
      "source": [
        "type(df2)\n",
        "df2.columns"
      ]
    },
    {
      "cell_type": "markdown",
      "metadata": {},
      "source": [
        "# PROMPT CHAINING"
      ]
    },
    {
      "cell_type": "code",
      "execution_count": 39,
      "metadata": {
        "colab": {
          "base_uri": "https://localhost:8080/"
        },
        "executionInfo": {
          "elapsed": 10570,
          "status": "ok",
          "timestamp": 1760424189588,
          "user": {
            "displayName": "Pratibha Kambi",
            "userId": "10228423695472283281"
          },
          "user_tz": -330
        },
        "id": "EcyK-ZZbG5YR",
        "outputId": "61127331-e68e-4e45-8223-29552dd7d690"
      },
      "outputs": [
        {
          "name": "stdout",
          "output_type": "stream",
          "text": [
            "Requirement already satisfied: textblob in /Users/Sowrab/Documents/Udemy Courses/venv/lib/python3.12/site-packages (0.19.0)\n",
            "Requirement already satisfied: nltk>=3.9 in /Users/Sowrab/Documents/Udemy Courses/venv/lib/python3.12/site-packages (from textblob) (3.9.2)\n",
            "Requirement already satisfied: click in /Users/Sowrab/Documents/Udemy Courses/venv/lib/python3.12/site-packages (from nltk>=3.9->textblob) (8.3.0)\n",
            "Requirement already satisfied: joblib in /Users/Sowrab/Documents/Udemy Courses/venv/lib/python3.12/site-packages (from nltk>=3.9->textblob) (1.5.2)\n",
            "Requirement already satisfied: regex>=2021.8.3 in /Users/Sowrab/Documents/Udemy Courses/venv/lib/python3.12/site-packages (from nltk>=3.9->textblob) (2025.9.18)\n",
            "Requirement already satisfied: tqdm in /Users/Sowrab/Documents/Udemy Courses/venv/lib/python3.12/site-packages (from nltk>=3.9->textblob) (4.67.1)\n"
          ]
        }
      ],
      "source": [
        "!pip install textblob"
      ]
    },
    {
      "cell_type": "code",
      "execution_count": 40,
      "metadata": {
        "id": "TfMvbMNhHXUH"
      },
      "outputs": [],
      "source": [
        "from textblob import TextBlob"
      ]
    },
    {
      "cell_type": "markdown",
      "metadata": {},
      "source": [
        "# ingestdata->pre-process->classify sentiment->summarize"
      ]
    },
    {
      "cell_type": "code",
      "execution_count": 41,
      "metadata": {
        "colab": {
          "base_uri": "https://localhost:8080/"
        },
        "executionInfo": {
          "elapsed": 3852,
          "status": "ok",
          "timestamp": 1760424211825,
          "user": {
            "displayName": "Pratibha Kambi",
            "userId": "10228423695472283281"
          },
          "user_tz": -330
        },
        "id": "XO-I3D9cF8ll",
        "outputId": "1da20854-23e7-4ef9-92ef-a69327d5eea8"
      },
      "outputs": [
        {
          "name": "stdout",
          "output_type": "stream",
          "text": [
            "              Ticker Sentiment  \\\n",
            "0      ASIANPAINT.NS  negative   \n",
            "1      ASIANPAINT.NS  negative   \n",
            "2      ASIANPAINT.NS   neutral   \n",
            "3      ASIANPAINT.NS  negative   \n",
            "4      ASIANPAINT.NS  negative   \n",
            "...              ...       ...   \n",
            "12375         TCS.NS  negative   \n",
            "12376         TCS.NS  negative   \n",
            "12377         TCS.NS  negative   \n",
            "12378         TCS.NS  negative   \n",
            "12379         TCS.NS  negative   \n",
            "\n",
            "                                        StructuredOutput  \n",
            "0      Summary: On 2020-10-16 00:00:00, ticker ASIANP...  \n",
            "1      Summary: On 2020-10-19 00:00:00, ticker ASIANP...  \n",
            "2      Summary: On 2020-10-20 00:00:00, ticker ASIANP...  \n",
            "3      Summary: On 2020-10-21 00:00:00, ticker ASIANP...  \n",
            "4      Summary: On 2020-10-22 00:00:00, ticker ASIANP...  \n",
            "...                                                  ...  \n",
            "12375  Summary: On 2025-10-10 00:00:00, ticker TCS.NS...  \n",
            "12376  Summary: On 2025-10-13 00:00:00, ticker TCS.NS...  \n",
            "12377  Summary: On 2025-10-14 00:00:00, ticker TCS.NS...  \n",
            "12378  Summary: On 2025-10-15 00:00:00, ticker TCS.NS...  \n",
            "12379  Summary: On 2025-10-16 00:00:00, ticker TCS.NS...  \n",
            "\n",
            "[12380 rows x 3 columns]\n"
          ]
        }
      ],
      "source": [
        "# -----------------------------\n",
        "# INGESTION: create PromptText from df2 columns\n",
        "# -----------------------------\n",
        "def ingest_prompt(row):\n",
        "    \"\"\"Creates natural-language prompt text from all relevant columns.\"\"\"\n",
        "    return (\n",
        "        f\"On {row['Date']}, ticker {row['Ticker']} opened at {row['Open']}, \"\n",
        "        f\"closed at {row['Close']}. CPI: {row.get('ConsumerPriceIndex', 'N/A')}, \"\n",
        "        f\"Unemployment Rate: {row.get('UnemploymentRate', 'N/A')}, GDP: {row.get('RealGDP', 'N/A')}.\"\n",
        "    )\n",
        "\n",
        "# -----------------------------\n",
        "# PREPROCESSING\n",
        "# -----------------------------\n",
        "def preprocess_prompt(text):\n",
        "    \"\"\"Basic text cleaning.\"\"\"\n",
        "    return str(text).strip().replace(\"  \", \" \")\n",
        "\n",
        "# -----------------------------\n",
        "# SENTIMENT ANALYSIS\n",
        "# -----------------------------\n",
        "BULLISH_KW = {\"beat\", \"expansion\", \"tailwinds\", \"improved\", \"higher\", \"record\", \"gains\", \"growth\", \"arpu\", \"pli\"}\n",
        "BEARISH_KW = {\"miss\", \"softness\", \"weak\", \"fine\", \"inquiry\", \"investigation\", \"headwind\", \"decline\", \"inflation\"}\n",
        "\n",
        "def compute_macro_thresholds(df):\n",
        "    thresholds = {}\n",
        "    for col in ['ConsumerPriceIndex', 'UnemploymentRate', 'RealGDP']:\n",
        "        if col in df.columns:\n",
        "            mean, std = df[col].mean(), df[col].std()\n",
        "            thresholds[col] = {'low': mean - std, 'high': mean + std, 'mean': mean}\n",
        "    return thresholds\n",
        "\n",
        "def hybrid_sentiment(row, thresholds):\n",
        "    \"\"\"Compute sentiment using numeric columns and keywords in text.\"\"\"\n",
        "    score = 0\n",
        "\n",
        "    # Price-based sentiment\n",
        "    if row['Close'] > row['Open']:\n",
        "        score += 1\n",
        "    elif row['Close'] < row['Open']:\n",
        "        score -= 1\n",
        "\n",
        "    # Macro indicators\n",
        "    for macro in ['ConsumerPriceIndex', 'UnemploymentRate', 'RealGDP']:\n",
        "        if macro in row and macro in thresholds:\n",
        "            if macro == 'RealGDP' and row[macro] > thresholds[macro]['high']:\n",
        "                score += 1\n",
        "            elif macro == 'RealGDP' and row[macro] < thresholds[macro]['low']:\n",
        "                score -= 1\n",
        "            elif macro != 'RealGDP' and row[macro] < thresholds[macro]['low']:\n",
        "                score += 1\n",
        "            elif macro != 'RealGDP' and row[macro] > thresholds[macro]['high']:\n",
        "                score -= 1\n",
        "\n",
        "    # Text-based keywords\n",
        "    text = str(row['ProcessedText']).lower()\n",
        "    bullish = sum(word in text for word in BULLISH_KW)\n",
        "    bearish = sum(word in text for word in BEARISH_KW)\n",
        "    score += bullish - bearish\n",
        "\n",
        "    # Sentiment label\n",
        "    if score > 0:\n",
        "        return \"positive\"\n",
        "    elif score < 0:\n",
        "        return \"negative\"\n",
        "    else:\n",
        "        return \"neutral\"\n",
        "\n",
        "# -----------------------------\n",
        "# SUMMARY GENERATION\n",
        "# -----------------------------\n",
        "def summary_prompt(row):\n",
        "    \"\"\"Generate structured summary with sentiment and tone.\"\"\"\n",
        "    tone = {\n",
        "        \"positive\": \"Market showed strength with improving indicators.\",\n",
        "        \"negative\": \"Market sentiment was weak with adverse signals.\",\n",
        "        \"neutral\": \"Market remained stable without strong directional bias.\"\n",
        "    }\n",
        "    return f\"Summary: {row['ProcessedText']} Overall Sentiment: {row['Sentiment'].upper()}. {tone[row['Sentiment']]}\"\n",
        "\n",
        "# -----------------------------\n",
        "# MAIN PIPELINE\n",
        "# -----------------------------\n",
        "def run_pipeline(df2):\n",
        "    # Ingest\n",
        "    df2['PromptText'] = df2.apply(ingest_prompt, axis=1)\n",
        "\n",
        "    # Preprocess\n",
        "    df2['ProcessedText'] = df2['PromptText'].apply(preprocess_prompt)\n",
        "\n",
        "    # Compute thresholds for numeric columns\n",
        "    thresholds = compute_macro_thresholds(df2)\n",
        "\n",
        "    # Sentiment classification\n",
        "    df2['Sentiment'] = df2.apply(lambda row: hybrid_sentiment(row, thresholds), axis=1)\n",
        "\n",
        "    # Generate structured summary\n",
        "    df2['StructuredOutput'] = df2.apply(summary_prompt, axis=1)\n",
        "\n",
        "    return df2\n",
        "\n",
        "# -----------------------------\n",
        "# RUN PIPELINE ON YOUR df2\n",
        "# -----------------------------\n",
        "\n",
        "# Ensure numeric columns are properly typed\n",
        "numeric_cols = ['ConsumerPriceIndex', 'UnemploymentRate', 'RealGDP', 'Open', 'Close', 'Adj Close', 'Volume', 'High']\n",
        "for col in numeric_cols:\n",
        "    df2[col] = pd.to_numeric(df2[col], errors='coerce')\n",
        "\n",
        "df2 = run_pipeline(df2)\n",
        "\n",
        "# View results\n",
        "print(df2[['Ticker', 'Sentiment', 'StructuredOutput']])\n",
        "#df2.drop(columns = ['ProcessedText'], inplace = True)\n"
      ]
    },
    {
      "cell_type": "markdown",
      "metadata": {},
      "source": [
        "How sentiment is determined?\n",
        "\n",
        "1 .Compare the stock's Close vs Open price:\n",
        "\n",
        "Close > Open → score +1 (positive)\n",
        "\n",
        "Close < Open → score -1 (negative)\n",
        "\n",
        "Equal → score 0 (neutral)\n",
        "\n",
        "Equal → score 0 (neutral)\n",
        "\n",
        "2️. Macro Indicators\n",
        "\n",
        "For each macro variable (CPI, Unemployment Rate, GDP), we compute thresholds based on the mean ± standard deviation of that column:\n",
        "\n",
        "CPI\n",
        "\n",
        "Below low threshold → +1\n",
        "\n",
        "Above high threshold → -1\n",
        "\n",
        "Unemployment Rate\n",
        "\n",
        "Below low threshold → +1\n",
        "\n",
        "Above high threshold → -1\n",
        "\n",
        "GDP\n",
        "\n",
        "Above high threshold → +1\n",
        "\n",
        "Below low threshold → -1\n",
        "\n",
        "This gives a market-condition-based signal.\n",
        "\n",
        "3. Text Keyword Analysis\n",
        "\n",
        "Scan the processed text for bullish keywords (like \"growth\", \"gains\", \"improved\") → add 1 per occurrence\n",
        "\n",
        "Scan for bearish keywords (like \"weak\", \"decline\", \"inflation\") → subtract 1 per occurrence\n",
        "\n",
        "This gives a textual sentiment signal from your filings/news.\n",
        "\n",
        "Combine Scores\n",
        "\n",
        "Total score = Price + Macro + Text score\n",
        "\n",
        "Label sentiment:\n",
        "\n",
        "Score > 0 → \"positive\"\n",
        "\n",
        "Score < 0 → \"negative\"\n",
        "\n",
        "Score = 0 → \"neutral\"\n",
        "\n",
        "In short: hybrid approach combining price movement + macroeconomic conditions + text keywords to produce one sentiment label per row."
      ]
    },
    {
      "cell_type": "code",
      "execution_count": 42,
      "metadata": {
        "colab": {
          "base_uri": "https://localhost:8080/"
        },
        "executionInfo": {
          "elapsed": 471,
          "status": "ok",
          "timestamp": 1760424248511,
          "user": {
            "displayName": "Pratibha Kambi",
            "userId": "10228423695472283281"
          },
          "user_tz": -330
        },
        "id": "n1Qh-pjnNWR6",
        "outputId": "11b2f611-49bc-4ab1-8ec1-3753e0ae7381"
      },
      "outputs": [
        {
          "name": "stdout",
          "output_type": "stream",
          "text": [
            "Sentiment\n",
            "NEGATIVE    5677\n",
            "POSITIVE    5020\n",
            "NEUTRAL     1683\n",
            "Name: count, dtype: int64\n"
          ]
        }
      ],
      "source": [
        "# Extract sentiment from StructuredOutput\n",
        "df2['Sentiment'] = df2['StructuredOutput'].str.extract(r'Sentiment:\\s*(\\w+)')\n",
        "\n",
        "# Count occurrences\n",
        "sentiment_counts = df2['Sentiment'].value_counts()\n",
        "\n",
        "print(sentiment_counts)"
      ]
    },
    {
      "cell_type": "code",
      "execution_count": 43,
      "metadata": {
        "colab": {
          "base_uri": "https://localhost:8080/"
        },
        "executionInfo": {
          "elapsed": 459,
          "status": "ok",
          "timestamp": 1760424257814,
          "user": {
            "displayName": "Pratibha Kambi",
            "userId": "10228423695472283281"
          },
          "user_tz": -330
        },
        "id": "hvwg1dJvNWet",
        "outputId": "7611c752-7fb0-4ef9-f834-6d346db234f5"
      },
      "outputs": [
        {
          "name": "stdout",
          "output_type": "stream",
          "text": [
            "Aggregated Sentiment Trends per Ticker:\n",
            " Sentiment      NEGATIVE  NEUTRAL  POSITIVE\n",
            "Ticker                                    \n",
            "ASIANPAINT.NS       596      167       475\n",
            "BHARTIARTL.NS       585      160       493\n",
            "HDFCBANK.NS         534      166       538\n",
            "ICICIBANK.NS        538      178       522\n",
            "INFY.NS             572      165       501\n",
            "ITC.NS              586      162       490\n",
            "LT.NS               563      181       494\n",
            "RELIANCE.NS         563      156       519\n",
            "SBIN.NS             563      181       494\n",
            "TCS.NS              577      167       494\n",
            "\n",
            "Earnings Signals for Reliance.NS:\n",
            "            Date       Ticker  \\\n",
            "8666 2020-10-16  RELIANCE.NS   \n",
            "8667 2020-10-19  RELIANCE.NS   \n",
            "8668 2020-10-20  RELIANCE.NS   \n",
            "8669 2020-10-21  RELIANCE.NS   \n",
            "8670 2020-10-22  RELIANCE.NS   \n",
            "...         ...          ...   \n",
            "9899 2025-10-10  RELIANCE.NS   \n",
            "9900 2025-10-13  RELIANCE.NS   \n",
            "9901 2025-10-14  RELIANCE.NS   \n",
            "9902 2025-10-15  RELIANCE.NS   \n",
            "9903 2025-10-16  RELIANCE.NS   \n",
            "\n",
            "                                        EarningsSignals Sentiment  \n",
            "8666  {'eps_beat': False, 'eps_miss': True, 'stable'...  NEGATIVE  \n",
            "8667  {'eps_beat': False, 'eps_miss': True, 'stable'...  NEGATIVE  \n",
            "8668  {'eps_beat': False, 'eps_miss': True, 'stable'...  NEGATIVE  \n",
            "8669  {'eps_beat': False, 'eps_miss': True, 'stable'...  NEGATIVE  \n",
            "8670  {'eps_beat': False, 'eps_miss': True, 'stable'...  NEGATIVE  \n",
            "...                                                 ...       ...  \n",
            "9899  {'eps_beat': True, 'eps_miss': False, 'stable'...  POSITIVE  \n",
            "9900  {'eps_beat': False, 'eps_miss': True, 'stable'...  NEGATIVE  \n",
            "9901  {'eps_beat': False, 'eps_miss': True, 'stable'...  NEGATIVE  \n",
            "9902  {'eps_beat': False, 'eps_miss': True, 'stable'...  NEGATIVE  \n",
            "9903  {'eps_beat': True, 'eps_miss': False, 'stable'...  POSITIVE  \n",
            "\n",
            "[1238 rows x 4 columns]\n"
          ]
        }
      ],
      "source": [
        "# -----------------------------\n",
        "# Earnings Agent Extraction\n",
        "# -----------------------------\n",
        "def earnings_agent_from_summary(summary_text: str):\n",
        "    \"\"\"Extract earnings signals based on keywords in structured summary.\"\"\"\n",
        "    summary_lower = summary_text.lower() if isinstance(summary_text, str) else \"\"\n",
        "    eps_beat = 'strength' in summary_lower\n",
        "    eps_miss = 'weak' in summary_lower\n",
        "    stable = 'stable' in summary_lower\n",
        "    return {\"eps_beat\": eps_beat, \"eps_miss\": eps_miss, \"stable\": stable}\n",
        "\n",
        "# -----------------------------\n",
        "# Aggregate & Analyze Sentiment Trends\n",
        "# -----------------------------\n",
        "def aggregate_sentiment_trends(df):\n",
        "    \"\"\"Aggregate sentiment counts per ticker.\"\"\"\n",
        "    sentiment_counts = df.groupby('Ticker')['Sentiment'].value_counts().unstack(fill_value=0)\n",
        "    return sentiment_counts\n",
        "\n",
        "# -----------------------------\n",
        "# Prompt Chain Execution\n",
        "# -----------------------------\n",
        "def prompt_chain_execution(df, default_ticker='RELIANCE.NS'):\n",
        "    # Normalize tickers\n",
        "    df['Ticker'] = df['Ticker'].astype(str).str.strip().str.upper()\n",
        "\n",
        "    # Step 1: Extract earnings signals\n",
        "    df['EarningsSignals'] = df['StructuredOutput'].apply(earnings_agent_from_summary)\n",
        "\n",
        "    # Step 2: Aggregate sentiment trends\n",
        "    sentiment_trends = aggregate_sentiment_trends(df)\n",
        "\n",
        "    # Step 3: Route to default ticker (show Reliance by default)\n",
        "    df_default = df[df['Ticker'].str.contains(default_ticker.replace('.NS',''), case=False, na=False)]\n",
        "\n",
        "    return df, sentiment_trends, df_default\n",
        "\n",
        "# -----------------------------\n",
        "# Execute Pipeline\n",
        "# -----------------------------\n",
        "df2, sentiment_trends, df_reliance = prompt_chain_execution(df2)\n",
        "\n",
        "# Example outputs\n",
        "print(\"Aggregated Sentiment Trends per Ticker:\\n\", sentiment_trends)\n",
        "print(\"\\nEarnings Signals for Reliance.NS:\\n\", df_reliance[['Date','Ticker','EarningsSignals','Sentiment']])\n"
      ]
    },
    {
      "cell_type": "markdown",
      "metadata": {},
      "source": [
        "#Example plot(Reliance.NS)"
      ]
    },
    {
      "cell_type": "code",
      "execution_count": 45,
      "metadata": {
        "colab": {
          "base_uri": "https://localhost:8080/",
          "height": 1000
        },
        "executionInfo": {
          "elapsed": 2740,
          "status": "ok",
          "timestamp": 1760426231261,
          "user": {
            "displayName": "Pratibha Kambi",
            "userId": "10228423695472283281"
          },
          "user_tz": -330
        },
        "id": "ELJxyidnrY6R",
        "outputId": "719b49ca-d735-49e6-8723-4e8e388b4ad8"
      },
      "outputs": [
        {
          "name": "stdout",
          "output_type": "stream",
          "text": [
            "\n",
            "Processing: ASIANPAINT.NS\n",
            "Completed processing ASIANPAINT.NS\n",
            "\n",
            "Processing: BHARTIARTL.NS\n",
            "Completed processing BHARTIARTL.NS\n",
            "\n",
            "Processing: HDFCBANK.NS\n",
            "Completed processing HDFCBANK.NS\n",
            "\n",
            "Processing: ICICIBANK.NS\n",
            "Completed processing ICICIBANK.NS\n",
            "\n",
            "Processing: INFY.NS\n",
            "Completed processing INFY.NS\n",
            "\n",
            "Processing: ITC.NS\n",
            "Completed processing ITC.NS\n",
            "\n",
            "Processing: LT.NS\n",
            "Completed processing LT.NS\n",
            "\n",
            "Processing: RELIANCE.NS\n",
            "Showing plots for RELIANCE.NS\n"
          ]
        },
        {
          "data": {
            "image/png": "[encoded data removed]",
            "text/plain": [
              "<Figure size 600x400 with 1 Axes>"
            ]
          },
          "metadata": {},
          "output_type": "display_data"
        },
        {
          "data": {
            "image/png": "[encoded data removed]",
            "text/plain": [
              "<Figure size 1200x500 with 1 Axes>"
            ]
          },
          "metadata": {},
          "output_type": "display_data"
        },
        {
          "data": {
            "image/png": "[encoded data removed]",
            "text/plain": [
              "<Figure size 1200x500 with 1 Axes>"
            ]
          },
          "metadata": {},
          "output_type": "display_data"
        },
        {
          "data": {
            "image/png": "[encoded data removed]",
            "text/plain": [
              "<Figure size 1200x500 with 1 Axes>"
            ]
          },
          "metadata": {},
          "output_type": "display_data"
        },
        {
          "data": {
            "image/png": "[encoded data removed]",
            "text/plain": [
              "<Figure size 900x500 with 1 Axes>"
            ]
          },
          "metadata": {},
          "output_type": "display_data"
        },
        {
          "name": "stdout",
          "output_type": "stream",
          "text": [
            "Completed processing RELIANCE.NS\n",
            "\n",
            "Processing: SBIN.NS\n",
            "Completed processing SBIN.NS\n",
            "\n",
            "Processing: TCS.NS\n",
            "Completed processing TCS.NS\n"
          ]
        }
      ],
      "source": [
        "import pandas as pd\n",
        "import matplotlib.pyplot as plt\n",
        "\n",
        "def analyze_stock(df2, ticker='RELIANCE.NS'):\n",
        "    \"\"\"\n",
        "    Analyze all tickers in df2 but show plots only for the specified ticker (default: RELIANCE.NS)\n",
        "    \"\"\"\n",
        "\n",
        "    # Normalize for case-insensitive comparison\n",
        "    ticker = ticker.strip().upper()\n",
        "\n",
        "    # Get all unique tickers\n",
        "    tickers = df2['Ticker'].unique() if 'Ticker' in df2.columns else [ticker]\n",
        "\n",
        "    for t in tickers:\n",
        "        print(f\"\\nProcessing: {t}\")\n",
        "        t_clean = str(t).strip().upper()\n",
        "\n",
        "        # Filter for the current ticker\n",
        "        df_t = df2[df2['Ticker'] == t].copy() if 'Ticker' in df2.columns else df2.copy()\n",
        "\n",
        "        if df_t.empty:\n",
        "            print(f\"⚠️ Skipping {t} — no data available.\")\n",
        "            continue\n",
        "\n",
        "        # Ensure Date column or use index\n",
        "        if 'Date' in df_t.columns:\n",
        "            df_t['Date'] = pd.to_datetime(df_t['Date'], errors='coerce')\n",
        "            df_t = df_t.dropna(subset=['Date']).sort_values('Date')\n",
        "        else:\n",
        "            df_t = df_t.sort_index()\n",
        "            df_t.index = pd.to_datetime(df_t.index)\n",
        "            df_t['Date'] = df_t.index\n",
        "\n",
        "        if df_t.empty:\n",
        "            print(f\"⚠️ Skipping {t} — invalid or missing dates.\")\n",
        "            continue\n",
        "\n",
        "        # Profit Calculations\n",
        "        df_t['Profit'] = df_t['Close'] - df_t['Open']\n",
        "        df_t['ProfitRolling'] = df_t['Profit'].rolling(window=3, min_periods=1).mean()\n",
        "\n",
        "        # --- Yearly Investment Trend ---\n",
        "        df_t = df_t.set_index('Date').sort_index()\n",
        "        if df_t['Close'].empty:\n",
        "            print(f\"⚠️ Skipping {t} — no closing price data.\")\n",
        "            continue\n",
        "\n",
        "        start_price = df_t['Close'].iloc[0]\n",
        "        yearly_close = df_t['Close'].resample('Y').last()\n",
        "\n",
        "        years = [1, 2, 3, 4, 5]\n",
        "        profits = []\n",
        "        for year in years:\n",
        "            if len(yearly_close) > year:\n",
        "                profit = ((yearly_close.iloc[year] - start_price) / start_price) * 100\n",
        "                profits.append(profit)\n",
        "            else:\n",
        "                profits.append(None)\n",
        "\n",
        "        # Only plot for the selected ticker\n",
        "        if t_clean == ticker:\n",
        "            print(f\"Showing plots for {t}\")\n",
        "\n",
        "            # Sentiment Distribution\n",
        "            if 'Sentiment' in df_t.columns and not df_t['Sentiment'].isnull().all():\n",
        "                sentiment_counts = df_t['Sentiment'].value_counts()\n",
        "                plt.figure(figsize=(6,4))\n",
        "                plt.bar(sentiment_counts.index, sentiment_counts.values, color=['green', 'grey', 'red'])\n",
        "                plt.title(f\"{t} Sentiment Distribution\")\n",
        "                plt.xlabel(\"Sentiment\")\n",
        "                plt.ylabel(\"Count\")\n",
        "                plt.tight_layout()\n",
        "                plt.show()\n",
        "\n",
        "            # Close Price Over Time\n",
        "            plt.figure(figsize=(12,5))\n",
        "            plt.plot(df_t.index, df_t['Close'], marker='o', color='blue')\n",
        "            plt.title(f\"{t} Close Price Over Time\")\n",
        "            plt.xlabel(\"Date\")\n",
        "            plt.ylabel(\"Close Price\")\n",
        "            plt.grid(alpha=0.3)\n",
        "            plt.tight_layout()\n",
        "            plt.show()\n",
        "\n",
        "            # Daily Profit\n",
        "            plt.figure(figsize=(12,5))\n",
        "            plt.plot(df_t.index, df_t['Profit'], marker='o', color='green')\n",
        "            plt.title(f\"{t} Daily Profit (Close - Open) Over Time\")\n",
        "            plt.xlabel(\"Date\")\n",
        "            plt.ylabel(\"Profit\")\n",
        "            plt.grid(alpha=0.3)\n",
        "            plt.tight_layout()\n",
        "            plt.show()\n",
        "\n",
        "            # Rolling Mean of Profit\n",
        "            plt.figure(figsize=(12,5))\n",
        "            plt.plot(df_t.index, df_t['ProfitRolling'], marker='o', color='purple')\n",
        "            plt.title(f\"{t} Rolling Mean of Daily Profit Over Time\")\n",
        "            plt.xlabel(\"Date\")\n",
        "            plt.ylabel(\"Rolling Mean Profit\")\n",
        "            plt.grid(alpha=0.3)\n",
        "            plt.tight_layout()\n",
        "            plt.show()\n",
        "\n",
        "            # Long-Term Investment Trend\n",
        "            if any(p is not None for p in profits):\n",
        "                plt.figure(figsize=(9,5))\n",
        "                plt.plot(years, profits, marker='o', color='darkviolet', linewidth=3, label='Cumulative Profit (%)')\n",
        "                plt.title(f\"{t} Long-Term Investment Trend (1-Year to 5-Year Holding)\", fontsize=13, fontweight='bold')\n",
        "                plt.xlabel(\"Holding Period (Years)\", fontsize=12)\n",
        "                plt.ylabel(\"Total Profit (%) from Initial Investment\", fontsize=12)\n",
        "                plt.grid(True, linestyle='--', alpha=0.7)\n",
        "                plt.xticks(years)\n",
        "                plt.legend()\n",
        "\n",
        "                for i, val in enumerate(profits):\n",
        "                    if val is not None:\n",
        "                        plt.text(years[i], val + 2, f\"{val:.1f}%\", ha='center', fontsize=10, color='darkgreen')\n",
        "\n",
        "                plt.tight_layout()\n",
        "                plt.show()\n",
        "\n",
        "        print(f\"Completed processing {t}\")\n",
        "\n",
        "analyze_stock(df2)"
      ]
    },
    {
      "cell_type": "markdown",
      "metadata": {},
      "source": [
        "#Analysis\n",
        "\n",
        "#Plot 2.\n",
        "\n",
        "1. X-axis (Date)\n",
        "\n",
        "The horizontal axis represents time, from around 2020 to 2025.\n",
        "\n",
        "The dates appear at regular intervals and are rotated for readability.\n",
        "\n",
        "2. Y-axis (Close Price)\n",
        "\n",
        "The vertical axis represents the closing stock price, ranging roughly from 850 to 1600 INR.\n",
        "\n",
        "3. Trend Interpretation\n",
        "\n",
        "2020–2021: The price starts around ₹1000, dips below ₹900, indicating a downtrend.\n",
        "\n",
        "2021–2022: Gradual recovery and upward movement, reaching about ₹1200 — likely due to market recovery post-pandemic.\n",
        "\n",
        "2022–2023: Some fluctuations between ₹1100–₹1250 — a sideways trend.\n",
        "\n",
        "2023–2024: Strong uptrend, prices peak around ₹1500–₹1600, possibly due to positive business growth or favorable market sentiment.\n",
        "\n",
        "2024–2025: Noticeable volatility and a downward correction toward ₹1300–₹1400 — suggesting either profit-taking or broader market weakness.\n",
        "\n",
        "4. Data Points\n",
        "\n",
        "Each blue point represents a daily (or periodic) closing price.\n",
        "\n",
        "The dense clustering shows frequent trading days with visible short-term volatility.\n",
        "\n",
        "💡 5. Overall Summary\n",
        "\n",
        "Over five years, Reliance’s stock shows a long-term uptrend, despite short-term fluctuations.\n",
        "\n",
        "The price roughly increased by 40–50% from early 2020 to 2025.\n",
        "\n",
        "This pattern is typical of cyclical growth: steady gains with periods of consolidation or correction.\n",
        "\n",
        "\n",
        "#Plot3.\n",
        "\n",
        "1. Axes\n",
        "\n",
        "X-axis (Date):\n",
        "Represents time, from 2020 to 2025.\n",
        "\n",
        "Y-axis (Profit):\n",
        "Represents the daily price difference (₹) — how much the stock price rose or fell in a single day.\n",
        "\n",
        "2. Meaning of Values\n",
        "\n",
        "Positive values (above 0) → Stock closed higher than it opened → Daily gain.\n",
        "\n",
        "Negative values (below 0) → Stock closed lower than it opened → Daily loss.\n",
        "\n",
        "3. Pattern Interpretation\n",
        "\n",
        "The plot fluctuates sharply around zero, meaning Reliance’s daily price changes are balanced between small gains and losses.\n",
        "\n",
        "The majority of daily changes seem to be within ±25 INR, showing moderate volatility.\n",
        "\n",
        "There are occasional large spikes:\n",
        "\n",
        "Positive spikes (up to +80 INR) show strong bullish days — possibly due to good news, results, or market momentum.\n",
        "\n",
        "Negative spikes (down to −100 INR) indicate sharp declines — perhaps caused by negative market sentiment or external events.\n",
        "\n",
        "These spikes occur sporadically across years, not concentrated in one period, implying periodic market reactions rather than a trend.\n",
        "\n",
        "4. Volatility Insights\n",
        "\n",
        "From 2020 to 2025, volatility appears fairly consistent, suggesting Reliance’s stock had stable daily fluctuations without major long-term increase in day-to-day risk.\n",
        "\n",
        "Some isolated large profit/loss days indicate news-driven or event-driven volatility, not systemic instability.\n",
        "\n",
        "5. Summary\n",
        "\n",
        "Reliance.NS shows regular daily price swings around zero (typical of an actively traded stock).\n",
        "\n",
        "Most days: small profits/losses.\n",
        "\n",
        "Some days: large deviations — reflecting significant market events.\n",
        "\n",
        "The overall pattern indicates steady market activity and controlled volatility over time.\n",
        "\n",
        "#Plot4.\n",
        "\n",
        "1. Axes\n",
        "\n",
        "X-axis (Date):\n",
        "Timeline from 2020 to 2025.\n",
        "\n",
        "Y-axis (Rolling Mean Profit):\n",
        "The average daily profit/loss over a moving window (e.g., 7 or 14 days, depending on your code).\n",
        "\n",
        "Positive values → average daily gain over the window.\n",
        "\n",
        "Negative values → average daily loss over the window.\n",
        "\n",
        "2. What the Rolling Mean Shows\n",
        "\n",
        "The rolling mean smooths out daily noise to reveal short-term trends in profit or loss.\n",
        "It helps you see when the stock consistently gained or lost value over several days in a row.\n",
        "\n",
        "3. Interpretation\n",
        "\n",
        "Throughout 2020–2025, the rolling mean fluctuates closely around zero, indicating:\n",
        "\n",
        "The average short-term daily profit/loss stays small.\n",
        "\n",
        "There is no persistent long-term upward or downward bias — i.e., daily profits and losses tend to cancel out over time.\n",
        "\n",
        "Occasional upward spikes (up to +30 to +40 INR):\n",
        "Indicate short-term bullish streaks where the stock consistently closed above its opening price.\n",
        "\n",
        "Occasional downward spikes (down to −30 INR):\n",
        "Represent short-term bearish streaks with consistent daily losses.\n",
        "\n",
        "Around 2023–2024, a few sharp peaks (both up and down) appear — this suggests higher volatility periods, where the stock saw larger consecutive moves.\n",
        "\n",
        "4. Overall Insight\n",
        "\n",
        "The rolling mean oscillates around zero, confirming that Reliance.NS’s day-to-day performance is mean-reverting — short bursts of profit/loss but no sustained trend.\n",
        "\n",
        "The volatility increased slightly around 2023–2024 (wider swings in rolling mean), likely due to market or company-specific events.\n",
        "\n",
        "No clear directional bias → Stock remains fundamentally stable with balanced buying and selling pressures over time.\n",
        "\n",
        "| Observation             | Meaning                               |\n",
        "| ----------------------- | ------------------------------------- |\n",
        "| Rolling mean near 0     | No consistent daily profit/loss trend |\n",
        "| Positive spikes         | Short-term upward momentum            |\n",
        "| Negative spikes         | Short-term downward momentum          |\n",
        "| Larger swings post-2023 | Increased short-term volatility       |\n",
        "\n",
        "#Plot5.\n",
        "\n",
        "Overview\n",
        "\n",
        "The y-axis shows total profit (%) relative to the initial investment.\n",
        "\n",
        "The x-axis represents holding period in years (from 1 to 5).\n",
        "\n",
        "The purple line with dots represents cumulative profit (%) for each holding period.\n",
        "\n",
        "The final value (top right) shows 32.3% total profit after 5 years.\n",
        "\n",
        "| Holding Period | Total Profit (%) | Observation                                                                              |\n",
        "| -------------- | ---------------- | ---------------------------------------------------------------------------------------- |\n",
        "| **1 Year**     | **5.8%**         | Small short-term gain — modest growth in the first year.                                 |\n",
        "| **2 Years**    | **13.8%**        | Profit more than doubled — steady medium-term performance.                               |\n",
        "| **3 Years**    | **25.1%**        | Strong compounding effect — best return before a slight dip.                             |\n",
        "| **4 Years**    | **17.6%**        | Slight decline — could be due to temporary market correction or weaker performance year. |\n",
        "| **5 Years**    | **32.3%**        | Recovery and highest overall return — long-term investors benefited most.                |\n",
        "\n",
        "\n",
        "Trend Insights\n",
        "\n",
        "The general trend is upward, indicating positive long-term returns.\n",
        "\n",
        "The dip at year 4 suggests there may have been a temporary market slowdown or correction.\n",
        "\n",
        "Patience pays off — the 5-year holding period significantly outperforms shorter periods."
      ]
    },
    {
      "cell_type": "markdown",
      "metadata": {},
      "source": [
        "## Conclusion\n",
        "\n",
        "This notebook demonstrates the design and implementation of an **Agentic AI-based financial analysis system** that automates the process of investment research. The system incorporates three major elements:\n",
        "\n",
        "1. **Agent Functions:**  \n",
        "   The agent autonomously plans, executes, and refines research tasks, integrating price data, news content, and heuristic evaluation within a unified framework.\n",
        "\n",
        "2. **Workflow Patterns:**  \n",
        "   All three patterns—Prompt Chaining, Routing, and Evaluator–Optimizer—are represented in the workflow, showing how an AI system can reason across steps, direct specialized analyses, and improve through iterative feedback.\n",
        "\n",
        "3. **Code Quality and Structure:**  \n",
        "   The codebase is modular, reproducible, and well-commented, demonstrating clear data flow and adherence to sound programming practices.\n",
        "\n",
        "The agent’s behavior can be extended with real API integrations (e.g., NewsAPI, FRED, SEC EDGAR) to support large-scale financial intelligence gathering. Future improvements could include integrating a reinforcement learning loop for dynamic portfolio recommendations or LLM-driven natural language evaluation for enhanced interpretability.\n"
      ]
    }
  ],
  "metadata": {
    "kernelspec": {
      "display_name": "Python 3",
      "name": "python3"
    },
    "language_info": {
      "codemirror_mode": {
        "name": "ipython",
        "version": 3
      },
      "file_extension": ".py",
      "mimetype": "text/x-python",
      "name": "python",
      "nbconvert_exporter": "python",
      "pygments_lexer": "ipython3",
      "version": "3.12.0"
    }
  },
  "nbformat": 4,
  "nbformat_minor": 0
}
